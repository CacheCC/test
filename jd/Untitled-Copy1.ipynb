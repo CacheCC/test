{
 "cells": [
  {
   "cell_type": "markdown",
   "id": "9cb5949b",
   "metadata": {},
   "source": [
    "### 导包+加载数据"
   ]
  },
  {
   "cell_type": "code",
   "execution_count": 1,
   "id": "39d9c3f6",
   "metadata": {
    "ExecuteTime": {
     "end_time": "2021-12-08T14:04:11.276238Z",
     "start_time": "2021-12-08T14:04:09.579220Z"
    }
   },
   "outputs": [],
   "source": [
    "import pandas as pd\n",
    "import numpy as np\n",
    "import matplotlib.pyplot as plt\n",
    "import seaborn as sns"
   ]
  },
  {
   "cell_type": "code",
   "execution_count": 2,
   "id": "d055d12e",
   "metadata": {
    "ExecuteTime": {
     "end_time": "2021-12-08T14:04:11.292679Z",
     "start_time": "2021-12-08T14:04:11.280127Z"
    }
   },
   "outputs": [],
   "source": [
    "# 设置中文编码和负号的正常显示\n",
    "\n",
    "plt.rcParams['font.sans-serif'] = ['SimHei']\n",
    "plt.rcParams['axes.unicode_minus'] = False"
   ]
  },
  {
   "cell_type": "code",
   "execution_count": 3,
   "id": "aee75d94",
   "metadata": {
    "ExecuteTime": {
     "end_time": "2021-12-05T14:43:48.925740Z",
     "start_time": "2021-12-05T14:43:48.916763Z"
    }
   },
   "outputs": [],
   "source": [
    "# jdata_action\n",
    "# behavior"
   ]
  },
  {
   "cell_type": "code",
   "execution_count": 4,
   "id": "1577c1a9",
   "metadata": {
    "ExecuteTime": {
     "end_time": "2021-12-05T14:45:19.801893Z",
     "start_time": "2021-12-05T14:43:48.934717Z"
    }
   },
   "outputs": [
    {
     "name": "stdout",
     "output_type": "stream",
     "text": [
      "Wall time: 1min 17s\n"
     ]
    }
   ],
   "source": [
    "%%time\n",
    "behavior = pd.read_csv('jdata_action.csv')"
   ]
  },
  {
   "cell_type": "code",
   "execution_count": 5,
   "id": "708c61cd",
   "metadata": {
    "ExecuteTime": {
     "end_time": "2021-12-05T14:45:26.982727Z",
     "start_time": "2021-12-05T14:45:19.838904Z"
    }
   },
   "outputs": [],
   "source": [
    "behavior = behavior[(behavior['action_time'] > '2018-03-30') & (behavior['action_time'] < '2018-04-15')]"
   ]
  },
  {
   "cell_type": "code",
   "execution_count": 6,
   "id": "35748779",
   "metadata": {
    "ExecuteTime": {
     "end_time": "2021-12-05T14:45:27.524672Z",
     "start_time": "2021-12-05T14:45:27.118086Z"
    }
   },
   "outputs": [
    {
     "data": {
      "text/html": [
       "<div>\n",
       "<style scoped>\n",
       "    .dataframe tbody tr th:only-of-type {\n",
       "        vertical-align: middle;\n",
       "    }\n",
       "\n",
       "    .dataframe tbody tr th {\n",
       "        vertical-align: top;\n",
       "    }\n",
       "\n",
       "    .dataframe thead th {\n",
       "        text-align: right;\n",
       "    }\n",
       "</style>\n",
       "<table border=\"1\" class=\"dataframe\">\n",
       "  <thead>\n",
       "    <tr style=\"text-align: right;\">\n",
       "      <th></th>\n",
       "      <th>user_id</th>\n",
       "      <th>sku_id</th>\n",
       "      <th>action_time</th>\n",
       "      <th>module_id</th>\n",
       "      <th>type</th>\n",
       "    </tr>\n",
       "  </thead>\n",
       "  <tbody>\n",
       "    <tr>\n",
       "      <th>17</th>\n",
       "      <td>1455298</td>\n",
       "      <td>208441</td>\n",
       "      <td>2018-04-11 15:21:43</td>\n",
       "      <td>6190659</td>\n",
       "      <td>1</td>\n",
       "    </tr>\n",
       "    <tr>\n",
       "      <th>18</th>\n",
       "      <td>1455298</td>\n",
       "      <td>334318</td>\n",
       "      <td>2018-04-11 15:14:54</td>\n",
       "      <td>6190659</td>\n",
       "      <td>1</td>\n",
       "    </tr>\n",
       "    <tr>\n",
       "      <th>19</th>\n",
       "      <td>1455298</td>\n",
       "      <td>237755</td>\n",
       "      <td>2018-04-11 15:14:13</td>\n",
       "      <td>6190659</td>\n",
       "      <td>1</td>\n",
       "    </tr>\n",
       "    <tr>\n",
       "      <th>20</th>\n",
       "      <td>1455298</td>\n",
       "      <td>6422</td>\n",
       "      <td>2018-04-11 15:22:25</td>\n",
       "      <td>6190659</td>\n",
       "      <td>1</td>\n",
       "    </tr>\n",
       "    <tr>\n",
       "      <th>21</th>\n",
       "      <td>1455298</td>\n",
       "      <td>268566</td>\n",
       "      <td>2018-04-11 15:14:26</td>\n",
       "      <td>6190659</td>\n",
       "      <td>1</td>\n",
       "    </tr>\n",
       "  </tbody>\n",
       "</table>\n",
       "</div>"
      ],
      "text/plain": [
       "    user_id  sku_id          action_time  module_id  type\n",
       "17  1455298  208441  2018-04-11 15:21:43    6190659     1\n",
       "18  1455298  334318  2018-04-11 15:14:54    6190659     1\n",
       "19  1455298  237755  2018-04-11 15:14:13    6190659     1\n",
       "20  1455298    6422  2018-04-11 15:22:25    6190659     1\n",
       "21  1455298  268566  2018-04-11 15:14:26    6190659     1"
      ]
     },
     "execution_count": 6,
     "metadata": {},
     "output_type": "execute_result"
    }
   ],
   "source": [
    "behavior.head()"
   ]
  },
  {
   "cell_type": "code",
   "execution_count": 7,
   "id": "e22e9008",
   "metadata": {
    "ExecuteTime": {
     "end_time": "2021-12-05T14:45:27.898443Z",
     "start_time": "2021-12-05T14:45:27.530592Z"
    }
   },
   "outputs": [
    {
     "name": "stdout",
     "output_type": "stream",
     "text": [
      "<class 'pandas.core.frame.DataFrame'>\n",
      "Int64Index: 7540394 entries, 17 to 37214234\n",
      "Data columns (total 5 columns):\n",
      " #   Column       Dtype \n",
      "---  ------       ----- \n",
      " 0   user_id      int64 \n",
      " 1   sku_id       int64 \n",
      " 2   action_time  object\n",
      " 3   module_id    int64 \n",
      " 4   type         int64 \n",
      "dtypes: int64(4), object(1)\n",
      "memory usage: 345.2+ MB\n"
     ]
    }
   ],
   "source": [
    "behavior.info()"
   ]
  },
  {
   "cell_type": "code",
   "execution_count": 8,
   "id": "8fe15d99",
   "metadata": {
    "ExecuteTime": {
     "end_time": "2021-12-05T14:45:28.068723Z",
     "start_time": "2021-12-05T14:45:27.903850Z"
    }
   },
   "outputs": [
    {
     "data": {
      "text/plain": [
       "user_id        0\n",
       "sku_id         0\n",
       "action_time    0\n",
       "module_id      0\n",
       "type           0\n",
       "dtype: int64"
      ]
     },
     "execution_count": 8,
     "metadata": {},
     "output_type": "execute_result"
    }
   ],
   "source": [
    "behavior.isnull().sum()"
   ]
  },
  {
   "cell_type": "markdown",
   "id": "98316ada",
   "metadata": {},
   "source": [
    "### 数据清洗"
   ]
  },
  {
   "cell_type": "code",
   "execution_count": 9,
   "id": "3ab22289",
   "metadata": {
    "ExecuteTime": {
     "end_time": "2021-12-05T14:45:28.099395Z",
     "start_time": "2021-12-05T14:45:28.087383Z"
    }
   },
   "outputs": [],
   "source": [
    "# 处理日期和时间\n",
    "# action_time列进行处理，拆分出日期和时间列，并添加星期字段求出每天对应的星期，方便后续按时间纬度对数据进行分析"
   ]
  },
  {
   "cell_type": "code",
   "execution_count": 10,
   "id": "37020f82",
   "metadata": {
    "ExecuteTime": {
     "end_time": "2021-12-05T14:45:28.115354Z",
     "start_time": "2021-12-05T14:45:28.106375Z"
    }
   },
   "outputs": [],
   "source": [
    "from datetime import datetime"
   ]
  },
  {
   "cell_type": "code",
   "execution_count": 11,
   "id": "b4925626",
   "metadata": {
    "ExecuteTime": {
     "end_time": "2021-12-05T14:45:28.909698Z",
     "start_time": "2021-12-05T14:45:28.121334Z"
    }
   },
   "outputs": [],
   "source": [
    "# pd.to_datetime(behavior['action_time']).head()"
   ]
  },
  {
   "cell_type": "code",
   "execution_count": 12,
   "id": "1a2cd674",
   "metadata": {
    "ExecuteTime": {
     "end_time": "2021-12-05T14:45:28.941606Z",
     "start_time": "2021-12-05T14:45:28.916560Z"
    }
   },
   "outputs": [
    {
     "data": {
      "text/html": [
       "<div>\n",
       "<style scoped>\n",
       "    .dataframe tbody tr th:only-of-type {\n",
       "        vertical-align: middle;\n",
       "    }\n",
       "\n",
       "    .dataframe tbody tr th {\n",
       "        vertical-align: top;\n",
       "    }\n",
       "\n",
       "    .dataframe thead th {\n",
       "        text-align: right;\n",
       "    }\n",
       "</style>\n",
       "<table border=\"1\" class=\"dataframe\">\n",
       "  <thead>\n",
       "    <tr style=\"text-align: right;\">\n",
       "      <th></th>\n",
       "      <th>user_id</th>\n",
       "      <th>sku_id</th>\n",
       "      <th>action_time</th>\n",
       "      <th>module_id</th>\n",
       "      <th>type</th>\n",
       "    </tr>\n",
       "  </thead>\n",
       "  <tbody>\n",
       "    <tr>\n",
       "      <th>17</th>\n",
       "      <td>1455298</td>\n",
       "      <td>208441</td>\n",
       "      <td>2018-04-11 15:21:43</td>\n",
       "      <td>6190659</td>\n",
       "      <td>1</td>\n",
       "    </tr>\n",
       "    <tr>\n",
       "      <th>18</th>\n",
       "      <td>1455298</td>\n",
       "      <td>334318</td>\n",
       "      <td>2018-04-11 15:14:54</td>\n",
       "      <td>6190659</td>\n",
       "      <td>1</td>\n",
       "    </tr>\n",
       "    <tr>\n",
       "      <th>19</th>\n",
       "      <td>1455298</td>\n",
       "      <td>237755</td>\n",
       "      <td>2018-04-11 15:14:13</td>\n",
       "      <td>6190659</td>\n",
       "      <td>1</td>\n",
       "    </tr>\n",
       "    <tr>\n",
       "      <th>20</th>\n",
       "      <td>1455298</td>\n",
       "      <td>6422</td>\n",
       "      <td>2018-04-11 15:22:25</td>\n",
       "      <td>6190659</td>\n",
       "      <td>1</td>\n",
       "    </tr>\n",
       "    <tr>\n",
       "      <th>21</th>\n",
       "      <td>1455298</td>\n",
       "      <td>268566</td>\n",
       "      <td>2018-04-11 15:14:26</td>\n",
       "      <td>6190659</td>\n",
       "      <td>1</td>\n",
       "    </tr>\n",
       "  </tbody>\n",
       "</table>\n",
       "</div>"
      ],
      "text/plain": [
       "    user_id  sku_id          action_time  module_id  type\n",
       "17  1455298  208441  2018-04-11 15:21:43    6190659     1\n",
       "18  1455298  334318  2018-04-11 15:14:54    6190659     1\n",
       "19  1455298  237755  2018-04-11 15:14:13    6190659     1\n",
       "20  1455298    6422  2018-04-11 15:22:25    6190659     1\n",
       "21  1455298  268566  2018-04-11 15:14:26    6190659     1"
      ]
     },
     "execution_count": 12,
     "metadata": {},
     "output_type": "execute_result"
    }
   ],
   "source": [
    "behavior.head()"
   ]
  },
  {
   "cell_type": "code",
   "execution_count": 13,
   "id": "44cbd2da",
   "metadata": {
    "ExecuteTime": {
     "end_time": "2021-12-05T14:45:29.874853Z",
     "start_time": "2021-12-05T14:45:28.946481Z"
    }
   },
   "outputs": [],
   "source": [
    "# 日期\n",
    "behavior['date'] = pd.to_datetime(behavior['action_time']).dt.date"
   ]
  },
  {
   "cell_type": "code",
   "execution_count": 14,
   "id": "f96b9c8a",
   "metadata": {
    "ExecuteTime": {
     "end_time": "2021-12-05T14:45:30.723734Z",
     "start_time": "2021-12-05T14:45:29.879690Z"
    }
   },
   "outputs": [],
   "source": [
    "# 时间\n",
    "behavior['hour'] = pd.to_datetime(behavior['action_time']).dt.hour"
   ]
  },
  {
   "cell_type": "code",
   "execution_count": 15,
   "id": "e8f75ead",
   "metadata": {
    "ExecuteTime": {
     "end_time": "2021-12-05T14:45:31.495016Z",
     "start_time": "2021-12-05T14:45:30.728727Z"
    }
   },
   "outputs": [],
   "source": [
    "# 周\n",
    "behavior['weekday'] = pd.to_datetime(behavior['action_time']).dt.day_name()"
   ]
  },
  {
   "cell_type": "code",
   "execution_count": 16,
   "id": "4b4964bc",
   "metadata": {
    "ExecuteTime": {
     "end_time": "2021-12-05T14:45:31.680649Z",
     "start_time": "2021-12-05T14:45:31.498008Z"
    }
   },
   "outputs": [],
   "source": [
    "# 去除与分析无关的列\n",
    "behavior.drop('module_id', axis=1, inplace=True)"
   ]
  },
  {
   "cell_type": "code",
   "execution_count": 17,
   "id": "8fe7888a",
   "metadata": {
    "ExecuteTime": {
     "end_time": "2021-12-05T14:45:31.710706Z",
     "start_time": "2021-12-05T14:45:31.685335Z"
    }
   },
   "outputs": [
    {
     "data": {
      "text/plain": [
       "1    6229177\n",
       "5     533890\n",
       "2     480149\n",
       "4     200399\n",
       "3      96779\n",
       "Name: type, dtype: int64"
      ]
     },
     "execution_count": 17,
     "metadata": {},
     "output_type": "execute_result"
    }
   ],
   "source": [
    "# 将用户行为标签由数字改为由字符表示\n",
    "behavior['type'].value_counts()"
   ]
  },
  {
   "cell_type": "code",
   "execution_count": 18,
   "id": "695eca8b",
   "metadata": {
    "ExecuteTime": {
     "end_time": "2021-12-05T14:45:31.848975Z",
     "start_time": "2021-12-05T14:45:31.714645Z"
    }
   },
   "outputs": [],
   "source": [
    "behavior_type = {1: 'pv', 2: 'pay', 3: 'fav', 4: 'comm', 5: 'cart'}\n",
    "behavior['type'] = behavior['type'].apply(lambda x: behavior_type[x])"
   ]
  },
  {
   "cell_type": "code",
   "execution_count": 19,
   "id": "727cb0d6",
   "metadata": {
    "ExecuteTime": {
     "end_time": "2021-12-05T14:45:31.864880Z",
     "start_time": "2021-12-05T14:45:31.851032Z"
    }
   },
   "outputs": [
    {
     "data": {
      "text/html": [
       "<div>\n",
       "<style scoped>\n",
       "    .dataframe tbody tr th:only-of-type {\n",
       "        vertical-align: middle;\n",
       "    }\n",
       "\n",
       "    .dataframe tbody tr th {\n",
       "        vertical-align: top;\n",
       "    }\n",
       "\n",
       "    .dataframe thead th {\n",
       "        text-align: right;\n",
       "    }\n",
       "</style>\n",
       "<table border=\"1\" class=\"dataframe\">\n",
       "  <thead>\n",
       "    <tr style=\"text-align: right;\">\n",
       "      <th></th>\n",
       "      <th>user_id</th>\n",
       "      <th>sku_id</th>\n",
       "      <th>action_time</th>\n",
       "      <th>type</th>\n",
       "      <th>date</th>\n",
       "      <th>hour</th>\n",
       "      <th>weekday</th>\n",
       "    </tr>\n",
       "  </thead>\n",
       "  <tbody>\n",
       "    <tr>\n",
       "      <th>17</th>\n",
       "      <td>1455298</td>\n",
       "      <td>208441</td>\n",
       "      <td>2018-04-11 15:21:43</td>\n",
       "      <td>pv</td>\n",
       "      <td>2018-04-11</td>\n",
       "      <td>15</td>\n",
       "      <td>Wednesday</td>\n",
       "    </tr>\n",
       "    <tr>\n",
       "      <th>18</th>\n",
       "      <td>1455298</td>\n",
       "      <td>334318</td>\n",
       "      <td>2018-04-11 15:14:54</td>\n",
       "      <td>pv</td>\n",
       "      <td>2018-04-11</td>\n",
       "      <td>15</td>\n",
       "      <td>Wednesday</td>\n",
       "    </tr>\n",
       "    <tr>\n",
       "      <th>19</th>\n",
       "      <td>1455298</td>\n",
       "      <td>237755</td>\n",
       "      <td>2018-04-11 15:14:13</td>\n",
       "      <td>pv</td>\n",
       "      <td>2018-04-11</td>\n",
       "      <td>15</td>\n",
       "      <td>Wednesday</td>\n",
       "    </tr>\n",
       "    <tr>\n",
       "      <th>20</th>\n",
       "      <td>1455298</td>\n",
       "      <td>6422</td>\n",
       "      <td>2018-04-11 15:22:25</td>\n",
       "      <td>pv</td>\n",
       "      <td>2018-04-11</td>\n",
       "      <td>15</td>\n",
       "      <td>Wednesday</td>\n",
       "    </tr>\n",
       "    <tr>\n",
       "      <th>21</th>\n",
       "      <td>1455298</td>\n",
       "      <td>268566</td>\n",
       "      <td>2018-04-11 15:14:26</td>\n",
       "      <td>pv</td>\n",
       "      <td>2018-04-11</td>\n",
       "      <td>15</td>\n",
       "      <td>Wednesday</td>\n",
       "    </tr>\n",
       "  </tbody>\n",
       "</table>\n",
       "</div>"
      ],
      "text/plain": [
       "    user_id  sku_id          action_time type        date  hour    weekday\n",
       "17  1455298  208441  2018-04-11 15:21:43   pv  2018-04-11    15  Wednesday\n",
       "18  1455298  334318  2018-04-11 15:14:54   pv  2018-04-11    15  Wednesday\n",
       "19  1455298  237755  2018-04-11 15:14:13   pv  2018-04-11    15  Wednesday\n",
       "20  1455298    6422  2018-04-11 15:22:25   pv  2018-04-11    15  Wednesday\n",
       "21  1455298  268566  2018-04-11 15:14:26   pv  2018-04-11    15  Wednesday"
      ]
     },
     "execution_count": 19,
     "metadata": {},
     "output_type": "execute_result"
    }
   ],
   "source": [
    "behavior.head()"
   ]
  },
  {
   "cell_type": "code",
   "execution_count": 20,
   "id": "b367dd9d",
   "metadata": {
    "ExecuteTime": {
     "end_time": "2021-12-05T14:45:31.942048Z",
     "start_time": "2021-12-05T14:45:31.867816Z"
    }
   },
   "outputs": [
    {
     "data": {
      "text/plain": [
       "Friday       1406980\n",
       "Saturday     1388631\n",
       "Tuesday       981200\n",
       "Monday        966219\n",
       "Thursday      949741\n",
       "Sunday        924409\n",
       "Wednesday     923214\n",
       "Name: weekday, dtype: int64"
      ]
     },
     "execution_count": 20,
     "metadata": {},
     "output_type": "execute_result"
    }
   ],
   "source": [
    "behavior['weekday'].value_counts()"
   ]
  },
  {
   "cell_type": "code",
   "execution_count": 21,
   "id": "5ec7c5cb",
   "metadata": {
    "ExecuteTime": {
     "end_time": "2021-12-05T14:45:31.956977Z",
     "start_time": "2021-12-05T14:45:31.944011Z"
    }
   },
   "outputs": [],
   "source": [
    "# behavior['dayofweek'] = pd.to_datetime(behavior['action_time']).dt.dayofweek"
   ]
  },
  {
   "cell_type": "code",
   "execution_count": 22,
   "id": "c2361560",
   "metadata": {
    "ExecuteTime": {
     "end_time": "2021-12-05T14:45:31.972317Z",
     "start_time": "2021-12-05T14:45:31.959590Z"
    }
   },
   "outputs": [],
   "source": [
    "# 查看weekday和dayofweek的对应关系\n",
    "\n",
    "# pd.pivot_table(behavior, index='weekday', columns='dayofweek', values='user_id')"
   ]
  },
  {
   "cell_type": "code",
   "execution_count": 23,
   "id": "d5fc9ded",
   "metadata": {
    "ExecuteTime": {
     "end_time": "2021-12-05T14:45:31.988008Z",
     "start_time": "2021-12-05T14:45:31.975346Z"
    }
   },
   "outputs": [],
   "source": [
    "# 0  Monday\n",
    "# 1  Tuesday\n",
    "# 2  Wednesday\n",
    "# 3  Thursday\n",
    "# 4  Friday\n",
    "# 5  Saturday\n",
    "# 6  Sunday"
   ]
  },
  {
   "cell_type": "code",
   "execution_count": 24,
   "id": "443d58b3",
   "metadata": {
    "ExecuteTime": {
     "end_time": "2021-12-05T14:45:36.660728Z",
     "start_time": "2021-12-05T14:45:31.989895Z"
    }
   },
   "outputs": [],
   "source": [
    "# behavior.to_csv('behavior.csv')"
   ]
  },
  {
   "cell_type": "code",
   "execution_count": 25,
   "id": "744dd440",
   "metadata": {
    "ExecuteTime": {
     "end_time": "2021-12-05T14:45:41.534130Z",
     "start_time": "2021-12-05T14:45:36.665684Z"
    }
   },
   "outputs": [],
   "source": [
    "# behavior.to_csv('behavior.xlsx')"
   ]
  },
  {
   "cell_type": "markdown",
   "id": "ef8448bc",
   "metadata": {},
   "source": [
    "### 分析模型构建分析指标"
   ]
  },
  {
   "cell_type": "markdown",
   "id": "2c682e22",
   "metadata": {},
   "source": [
    "#### 流量指标分析"
   ]
  },
  {
   "cell_type": "markdown",
   "id": "0215b19a",
   "metadata": {},
   "source": [
    "- **pv、uv、消费用户数占比、消费用户总访问量占比、消费用户人均访问量、跳失率**"
   ]
  },
  {
   "cell_type": "code",
   "execution_count": 26,
   "id": "13810d43",
   "metadata": {
    "ExecuteTime": {
     "end_time": "2021-12-05T14:57:14.229145Z",
     "start_time": "2021-12-05T14:57:14.210007Z"
    }
   },
   "outputs": [],
   "source": [
    "# 总访问量\n",
    "\n",
    "pv = behavior[behavior['type'] == 'pv']['user_id'].count()"
   ]
  },
  {
   "cell_type": "code",
   "execution_count": 27,
   "id": "057c4e2f",
   "metadata": {
    "ExecuteTime": {
     "end_time": "2021-12-05T14:57:30.510828Z",
     "start_time": "2021-12-05T14:57:30.498831Z"
    }
   },
   "outputs": [],
   "source": [
    "# 总访客数\n",
    "\n",
    "uv = behavior['user_id'].nunique()"
   ]
  },
  {
   "cell_type": "code",
   "execution_count": 28,
   "id": "dfb7e0ac",
   "metadata": {
    "ExecuteTime": {
     "end_time": "2021-12-05T14:58:08.127610Z",
     "start_time": "2021-12-05T14:58:08.123039Z"
    }
   },
   "outputs": [],
   "source": [
    "# 消费用户数\n",
    "\n",
    "user_pay = behavior[behavior['type'] == 'pay']['user_id'].unique()"
   ]
  },
  {
   "cell_type": "code",
   "execution_count": 29,
   "id": "a52d41e6",
   "metadata": {
    "ExecuteTime": {
     "end_time": "2021-12-05T15:31:05.589207Z",
     "start_time": "2021-12-05T15:31:05.579234Z"
    }
   },
   "outputs": [
    {
     "data": {
      "text/plain": [
       "395874"
      ]
     },
     "execution_count": 29,
     "metadata": {},
     "output_type": "execute_result"
    }
   ],
   "source": [
    "# 消费用户数：\n",
    "len(user_pay)"
   ]
  },
  {
   "cell_type": "code",
   "execution_count": 30,
   "id": "260ccc36",
   "metadata": {
    "ExecuteTime": {
     "end_time": "2021-12-05T15:00:24.184104Z",
     "start_time": "2021-12-05T15:00:24.178021Z"
    }
   },
   "outputs": [],
   "source": [
    "# 日均访问量\n",
    "\n",
    "# 日均访问量 = 总访问量 / 访问天数\n",
    "pv_per_day = pv / behavior['date'].nunique()"
   ]
  },
  {
   "cell_type": "code",
   "execution_count": 31,
   "id": "e3ea70a4",
   "metadata": {
    "ExecuteTime": {
     "end_time": "2021-12-05T15:04:55.191857Z",
     "start_time": "2021-12-05T15:04:55.171794Z"
    }
   },
   "outputs": [],
   "source": [
    "# 人均访问量\n",
    "\n",
    "# 人均访问量 = 总访问量 / 总人数\n",
    "pv_per_user = pv / uv"
   ]
  },
  {
   "cell_type": "code",
   "execution_count": 32,
   "id": "e0de510d",
   "metadata": {
    "ExecuteTime": {
     "end_time": "2021-12-05T15:05:43.686260Z",
     "start_time": "2021-12-05T15:05:43.671150Z"
    }
   },
   "outputs": [],
   "source": [
    "# 消费用户访问量\n",
    "\n",
    "pv_pay = behavior[behavior['user_id'].isin(user_pay)]['type'].value_counts()['pv']"
   ]
  },
  {
   "cell_type": "code",
   "execution_count": 33,
   "id": "908813b6",
   "metadata": {
    "ExecuteTime": {
     "end_time": "2021-12-05T15:31:20.464544Z",
     "start_time": "2021-12-05T15:31:20.456487Z"
    }
   },
   "outputs": [],
   "source": [
    "# 消费用户数占比\n",
    "\n",
    "user_pay_rate = len(user_pay) / uv"
   ]
  },
  {
   "cell_type": "code",
   "execution_count": 34,
   "id": "2518e28d",
   "metadata": {
    "ExecuteTime": {
     "end_time": "2021-12-05T15:31:43.871021Z",
     "start_time": "2021-12-05T15:31:43.864699Z"
    }
   },
   "outputs": [],
   "source": [
    "# 消费用户访问量占比\n",
    "\n",
    "pv_pay_rate = pv_pay / pv"
   ]
  },
  {
   "cell_type": "code",
   "execution_count": 35,
   "id": "c699c025",
   "metadata": {
    "ExecuteTime": {
     "end_time": "2021-12-05T15:33:51.448200Z",
     "start_time": "2021-12-05T15:33:51.437199Z"
    }
   },
   "outputs": [],
   "source": [
    "# 消费用户人均访问量\n",
    "\n",
    "pv_per_buy_user = pv_pay / len(user_pay)"
   ]
  },
  {
   "cell_type": "markdown",
   "id": "5c6a2ed6",
   "metadata": {
    "ExecuteTime": {
     "end_time": "2021-12-05T15:34:40.674371Z",
     "start_time": "2021-12-05T15:34:40.669386Z"
    }
   },
   "source": [
    "- 跳失率"
   ]
  },
  {
   "cell_type": "code",
   "execution_count": 36,
   "id": "c35e217b",
   "metadata": {},
   "outputs": [],
   "source": [
    "# behavior.head(10000).to_csv('test.csv', encoding='UTF-8')"
   ]
  },
  {
   "cell_type": "code",
   "execution_count": 37,
   "id": "fe3b1eb0",
   "metadata": {},
   "outputs": [
    {
     "name": "stdout",
     "output_type": "stream",
     "text": [
      "跳失率为：22.585%\n"
     ]
    }
   ],
   "source": [
    "# 只进行一次操作就离开的用户数 / 总用户数\n",
    "attrition_rates = sum(behavior.groupby('user_id')['type'].count() == 1) / uv\n",
    "\n",
    "print('跳失率为：{}%'.format(round(attrition_rates * 100, 3)))"
   ]
  },
  {
   "cell_type": "markdown",
   "id": "bc8d729d",
   "metadata": {},
   "source": [
    "#### 用户消费频次分析"
   ]
  },
  {
   "cell_type": "code",
   "execution_count": 38,
   "id": "46cf5fc5",
   "metadata": {},
   "outputs": [],
   "source": [
    "# 单个用户消费总次数\n",
    "\n",
    "total_by_count = behavior[behavior['type'] == 'pay'].groupby('user_id')['type'].count().reset_index().rename(columns={'type': 'total'}).sort_values(by='total', ascending=False)"
   ]
  },
  {
   "cell_type": "code",
   "execution_count": 39,
   "id": "81c1c621",
   "metadata": {},
   "outputs": [],
   "source": [
    "# 消费次数前10客户\n",
    "\n",
    "topbuyer10 = total_by_count.head(10)"
   ]
  },
  {
   "cell_type": "code",
   "execution_count": 40,
   "id": "a4cb0d47",
   "metadata": {},
   "outputs": [],
   "source": [
    "# 复购率\n",
    "\n",
    "re_buy_rate = total_by_count[total_by_count > 1]['total'].count() / total_by_count['total'].count()"
   ]
  },
  {
   "cell_type": "code",
   "execution_count": 41,
   "id": "e5348e5e",
   "metadata": {},
   "outputs": [
    {
     "data": {
      "text/plain": [
       "0.13418916119775484"
      ]
     },
     "execution_count": 41,
     "metadata": {},
     "output_type": "execute_result"
    }
   ],
   "source": [
    "# 或者：（结果同上）\n",
    "# 复购率 = 购买次数>1的用户数 / 所有购买的用户数\n",
    "sum(behavior[behavior['type'] == 'pay'].groupby('user_id')['type'].count() > 1) / behavior[behavior['type'] == 'pay']['user_id'].nunique()"
   ]
  },
  {
   "cell_type": "markdown",
   "id": "8261c9aa",
   "metadata": {},
   "source": [
    "- 可视化"
   ]
  },
  {
   "cell_type": "code",
   "execution_count": 42,
   "id": "788c9f9e",
   "metadata": {},
   "outputs": [],
   "source": [
    "# 单个用户消费总次数可视化"
   ]
  },
  {
   "cell_type": "markdown",
   "id": "044f2813",
   "metadata": {},
   "source": [
    "#### 用户行为在时间纬度的分布"
   ]
  },
  {
   "cell_type": "code",
   "execution_count": 43,
   "id": "74ce23a6",
   "metadata": {},
   "outputs": [],
   "source": [
    "# 日活跃人数\n",
    "\n",
    "# 有一次操作即视为活跃\n",
    "daily_active_user = behavior.groupby('date')['user_id'].nunique()"
   ]
  },
  {
   "cell_type": "code",
   "execution_count": 44,
   "id": "179f7f5a",
   "metadata": {},
   "outputs": [],
   "source": [
    "# 日消费人数\n",
    "\n",
    "daily_buy_user = behavior[behavior['type'] == 'pay'].groupby('date')['user_id'].nunique()"
   ]
  },
  {
   "cell_type": "code",
   "execution_count": 45,
   "id": "583b6b77",
   "metadata": {},
   "outputs": [],
   "source": [
    "# 日消费人数占比\n",
    "\n",
    "proportion_of_buyer = daily_buy_user / daily_active_user"
   ]
  },
  {
   "cell_type": "code",
   "execution_count": 46,
   "id": "a3ba27d1",
   "metadata": {},
   "outputs": [],
   "source": [
    "# 日消费总次数\n",
    "\n",
    "daily_buy_count = behavior[behavior['type'] == 'pay'].groupby('date')['type'].count()"
   ]
  },
  {
   "cell_type": "code",
   "execution_count": 47,
   "id": "b68a8ac2",
   "metadata": {},
   "outputs": [],
   "source": [
    "# 消费用户日人均消费次数\n",
    "\n",
    "consumption_per_buyer = daily_buy_count / daily_buy_user"
   ]
  },
  {
   "cell_type": "markdown",
   "id": "09be12aa",
   "metadata": {},
   "source": [
    "- 可视化"
   ]
  },
  {
   "cell_type": "code",
   "execution_count": 48,
   "id": "6eeb1fe0",
   "metadata": {},
   "outputs": [
    {
     "data": {
      "text/html": [
       "<div>\n",
       "<style scoped>\n",
       "    .dataframe tbody tr th:only-of-type {\n",
       "        vertical-align: middle;\n",
       "    }\n",
       "\n",
       "    .dataframe tbody tr th {\n",
       "        vertical-align: top;\n",
       "    }\n",
       "\n",
       "    .dataframe thead th {\n",
       "        text-align: right;\n",
       "    }\n",
       "</style>\n",
       "<table border=\"1\" class=\"dataframe\">\n",
       "  <thead>\n",
       "    <tr style=\"text-align: right;\">\n",
       "      <th></th>\n",
       "      <th>date</th>\n",
       "      <th>Variable</th>\n",
       "      <th>Value</th>\n",
       "    </tr>\n",
       "  </thead>\n",
       "  <tbody>\n",
       "    <tr>\n",
       "      <th>0</th>\n",
       "      <td>2018-03-30</td>\n",
       "      <td>日活跃人数</td>\n",
       "      <td>105562</td>\n",
       "    </tr>\n",
       "    <tr>\n",
       "      <th>1</th>\n",
       "      <td>2018-03-30</td>\n",
       "      <td>日消费人数</td>\n",
       "      <td>25154</td>\n",
       "    </tr>\n",
       "  </tbody>\n",
       "</table>\n",
       "</div>"
      ],
      "text/plain": [
       "         date Variable   Value\n",
       "0  2018-03-30    日活跃人数  105562\n",
       "1  2018-03-30    日消费人数   25154"
      ]
     },
     "execution_count": 48,
     "metadata": {},
     "output_type": "execute_result"
    }
   ],
   "source": [
    "# 柱状图数据：\n",
    "pob_bar = pd.merge(daily_active_user, daily_buy_user, on='date').reset_index().rename(columns={'user_id_x': '日活跃人数', 'user_id_y': '日消费人数'}).set_index('date').stack().reset_index().rename(columns={'level_1': 'Variable', 0: 'Value'})\n",
    "\n",
    "pob_bar.head(2)"
   ]
  },
  {
   "cell_type": "code",
   "execution_count": 49,
   "id": "53f6f3a9",
   "metadata": {},
   "outputs": [
    {
     "data": {
      "text/html": [
       "<div>\n",
       "<style scoped>\n",
       "    .dataframe tbody tr th:only-of-type {\n",
       "        vertical-align: middle;\n",
       "    }\n",
       "\n",
       "    .dataframe tbody tr th {\n",
       "        vertical-align: top;\n",
       "    }\n",
       "\n",
       "    .dataframe thead th {\n",
       "        text-align: right;\n",
       "    }\n",
       "</style>\n",
       "<table border=\"1\" class=\"dataframe\">\n",
       "  <thead>\n",
       "    <tr style=\"text-align: right;\">\n",
       "      <th></th>\n",
       "      <th>date</th>\n",
       "      <th>Rate</th>\n",
       "    </tr>\n",
       "  </thead>\n",
       "  <tbody>\n",
       "    <tr>\n",
       "      <th>0</th>\n",
       "      <td>2018-03-30</td>\n",
       "      <td>0.238287</td>\n",
       "    </tr>\n",
       "    <tr>\n",
       "      <th>1</th>\n",
       "      <td>2018-03-31</td>\n",
       "      <td>0.245711</td>\n",
       "    </tr>\n",
       "  </tbody>\n",
       "</table>\n",
       "</div>"
      ],
      "text/plain": [
       "         date      Rate\n",
       "0  2018-03-30  0.238287\n",
       "1  2018-03-31  0.245711"
      ]
     },
     "execution_count": 49,
     "metadata": {},
     "output_type": "execute_result"
    }
   ],
   "source": [
    "# 线图数据：\n",
    "pob_line = proportion_of_buyer.reset_index().rename(columns={'user_id':'Rate'})\n",
    "\n",
    "pob_line.head(2)"
   ]
  },
  {
   "cell_type": "code",
   "execution_count": 50,
   "id": "ded136aa",
   "metadata": {},
   "outputs": [
    {
     "data": {
      "text/plain": [
       "Text(0.5, 1.0, '日消费人数占比')"
      ]
     },
     "execution_count": 50,
     "metadata": {},
     "output_type": "execute_result"
    },
    {
     "data": {
      "image/png": "[encoded data removed]",
      "text/plain": [
       "<Figure size 1080x432 with 2 Axes>"
      ]
     },
     "metadata": {
      "needs_background": "light"
     },
     "output_type": "display_data"
    }
   ],
   "source": [
    "fig1 = plt.figure(figsize=(15, 6))\n",
    "plt.style.use('ggplot')\n",
    "\n",
    "ax1 = fig1.add_subplot(111)\n",
    "ax2 = ax1.twinx()\n",
    "\n",
    "sns.barplot(\n",
    "    x = 'date',\n",
    "    y = 'Value',\n",
    "    hue = 'Variable',\n",
    "    data = pob_bar,\n",
    "    ax = ax1,\n",
    "    palette = 'Blues_d',  # 调色盘色调\n",
    ")\n",
    "\n",
    "sns.pointplot(\n",
    "    x = 'date',\n",
    "    y = 'Rate',\n",
    "    data = pob_line,\n",
    "    ax = ax2,\n",
    "    markers = 'D',\n",
    "    linestyles = '--'\n",
    ")\n",
    "\n",
    "fig1.legend(loc='upper center', ncol=2)\n",
    "plt.title('日消费人数占比')"
   ]
  },
  {
   "cell_type": "markdown",
   "id": "b19012e0",
   "metadata": {},
   "source": [
    "- 日活跃人数与日消费人数**无明显波动**，日消费人数占比均在以上"
   ]
  },
  {
   "cell_type": "code",
   "execution_count": 51,
   "id": "287fd582",
   "metadata": {},
   "outputs": [
    {
     "data": {
      "text/plain": [
       "Text(0.5, 1.0, '消费用户日人均消费次数')"
      ]
     },
     "execution_count": 51,
     "metadata": {},
     "output_type": "execute_result"
    },
    {
     "data": {
      "image/png": "[encoded data removed]",
      "text/plain": [
       "<Figure size 1080x432 with 2 Axes>"
      ]
     },
     "metadata": {},
     "output_type": "display_data"
    }
   ],
   "source": [
    "# 消费用户日人均消费次数可视化\n",
    "\n",
    "# 线图数据：\n",
    "fig2_line = consumption_per_buyer.reset_index().rename(columns={0: 'Frequency'})\n",
    "\n",
    "# 柱状图数据：\n",
    "fig2_bar = daily_buy_count.reset_index().rename(columns={'type': 'Num'})\n",
    "\n",
    "# 画布大小\n",
    "fig2 = plt.figure(figsize=(15, 6))\n",
    "ax3 = fig2.add_subplot(111)\n",
    "ax4 = ax3.twinx()\n",
    "\n",
    "sns.barplot(\n",
    "    x = 'date',\n",
    "    y = 'Num',\n",
    "    data = fig2_bar,\n",
    "    ax = ax3,\n",
    "    palette='pastel'\n",
    ")\n",
    "\n",
    "# 这种写法会报错，原因未知\n",
    "# sns.pointplot(\n",
    "#     x = 'date',\n",
    "#     y = 'Frequency',\n",
    "#     date = fig2_line,\n",
    "#     ax = ax4,\n",
    "#     markers='D', \n",
    "#     linestyles='--',\n",
    "#     color='teal'\n",
    "# )\n",
    "\n",
    "sns.pointplot(\n",
    "    x = fig2_line['date'],\n",
    "    y = fig2_line['Frequency'],\n",
    "    date = fig2_line,\n",
    "    ax = ax4,\n",
    "    markers='D', \n",
    "    linestyles='--',\n",
    "    color='teal'\n",
    ")\n",
    "\n",
    "plt.title('消费用户日人均消费次数')"
   ]
  },
  {
   "cell_type": "markdown",
   "id": "bf40e342",
   "metadata": {},
   "source": [
    "- 日消费人数在25000以上，日人均消费次数大于1次"
   ]
  },
  {
   "cell_type": "code",
   "execution_count": 52,
   "id": "403128ee",
   "metadata": {},
   "outputs": [],
   "source": [
    "df_dau3 = behavior.groupby(['date', 'user_id'])['type'].count().reset_index()"
   ]
  },
  {
   "cell_type": "code",
   "execution_count": 53,
   "id": "9264903f",
   "metadata": {},
   "outputs": [],
   "source": [
    "df_dau3 = df_dau3[df_dau3['type'] >= 3]"
   ]
  },
  {
   "cell_type": "code",
   "execution_count": 54,
   "id": "030cad24",
   "metadata": {},
   "outputs": [],
   "source": [
    "# 每日最高活跃用户数：\n",
    "dau3_num = df_dau3.groupby('date')['user_id'].nunique()\n",
    "dau3_num = dau3_num.reset_index()"
   ]
  },
  {
   "cell_type": "code",
   "execution_count": 55,
   "id": "a94b8ae4",
   "metadata": {},
   "outputs": [
    {
     "data": {
      "text/plain": [
       "<AxesSubplot:xlabel='date', ylabel='user_id'>"
      ]
     },
     "execution_count": 55,
     "metadata": {},
     "output_type": "execute_result"
    },
    {
     "data": {
      "image/png": "[encoded data removed]",
      "text/plain": [
       "<Figure size 1080x432 with 1 Axes>"
      ]
     },
     "metadata": {},
     "output_type": "display_data"
    }
   ],
   "source": [
    "fig3 = plt.figure(figsize=(15, 6))\n",
    "\n",
    "sns.pointplot(\n",
    "    x = dau3_num['date'],\n",
    "    y = dau3_num['user_id'],\n",
    "    data = dau3_num\n",
    ")"
   ]
  },
  {
   "cell_type": "markdown",
   "id": "dee6fdad",
   "metadata": {},
   "source": [
    "- 每日高活跃用户数在大部分4万以上，2018-04-04之前数量比较平稳，之后数量一直攀升，8号9号达到最高，随后下降，推测数据波动应为营销活动产生的。"
   ]
  },
  {
   "cell_type": "code",
   "execution_count": 56,
   "id": "01a3967c",
   "metadata": {},
   "outputs": [],
   "source": [
    "# 高活跃用户累计活跃天数分布\n",
    "\n",
    "# (每日高活跃用户数：操作数>=3)\n",
    "dau3_cumsum = df_dau3.groupby('user_id')['date'].count().reset_index()"
   ]
  },
  {
   "cell_type": "code",
   "execution_count": 57,
   "id": "93614eaa",
   "metadata": {},
   "outputs": [
    {
     "data": {
      "text/plain": [
       "Text(0.5, 1.0, '高活跃用户累计活跃天数分布')"
      ]
     },
     "execution_count": 57,
     "metadata": {},
     "output_type": "execute_result"
    },
    {
     "data": {
      "image/png": "[encoded data removed]",
      "text/plain": [
       "<Figure size 1080x432 with 1 Axes>"
      ]
     },
     "metadata": {},
     "output_type": "display_data"
    }
   ],
   "source": [
    "plt.figure(figsize=(15, 6))\n",
    "\n",
    "sns.countplot(\n",
    "    x = dau3_cumsum['date'],\n",
    "    data = dau3_cumsum\n",
    ")\n",
    "\n",
    "plt.title('高活跃用户累计活跃天数分布')\n",
    "\n",
    "# sns.countplot()函数\n",
    "# 以bar的形式展示每个类别的数量"
   ]
  },
  {
   "cell_type": "markdown",
   "id": "73c22375",
   "metadata": {},
   "source": [
    "- 统计周期内，大部分高活跃用户累计活跃天数在六天以下，但也存在高达十六天的超级活跃用户数量，对累计天数较高的用户要推出连续登录奖励等继续维持其对平台的黏性，对累计天数较低的用户要适当进行推送活动消息等对其进行召回。"
   ]
  },
  {
   "cell_type": "code",
   "execution_count": 58,
   "id": "60fb89db",
   "metadata": {},
   "outputs": [],
   "source": [
    "# 每日浏览量\n",
    "\n",
    "pv_daily = behavior[behavior['type'] == 'pv'].groupby('date')['user_id'].count().reset_index()"
   ]
  },
  {
   "cell_type": "code",
   "execution_count": 59,
   "id": "db612178",
   "metadata": {},
   "outputs": [],
   "source": [
    "# 每日访客数\n",
    "\n",
    "uv_daily = behavior.groupby('date')['user_id'].nunique().reset_index()"
   ]
  },
  {
   "cell_type": "code",
   "execution_count": 60,
   "id": "5e847b19",
   "metadata": {},
   "outputs": [
    {
     "data": {
      "text/plain": [
       "Text(0.5, 1.0, '每日浏览量')"
      ]
     },
     "execution_count": 60,
     "metadata": {},
     "output_type": "execute_result"
    },
    {
     "data": {
      "image/png": "[encoded data removed]",
      "text/plain": [
       "<Figure size 1080x432 with 1 Axes>"
      ]
     },
     "metadata": {},
     "output_type": "display_data"
    }
   ],
   "source": [
    "# 每日浏览量可视化\n",
    "\n",
    "plt.figure(figsize=(15, 6))\n",
    "\n",
    "sns.pointplot(\n",
    "    x = 'date',\n",
    "    y = 'user_id',\n",
    "    data = pv_daily\n",
    ")\n",
    "\n",
    "plt.title('每日浏览量')"
   ]
  },
  {
   "cell_type": "code",
   "execution_count": 61,
   "id": "f4c70dab",
   "metadata": {},
   "outputs": [
    {
     "data": {
      "text/plain": [
       "Text(0.5, 1.0, '每日访客数')"
      ]
     },
     "execution_count": 61,
     "metadata": {},
     "output_type": "execute_result"
    },
    {
     "data": {
      "image/png": "[encoded data removed]",
      "text/plain": [
       "<Figure size 1080x432 with 1 Axes>"
      ]
     },
     "metadata": {},
     "output_type": "display_data"
    }
   ],
   "source": [
    "# 每日访客数可视化\n",
    "\n",
    "plt.figure(figsize=(15, 6))\n",
    "\n",
    "sns.pointplot(\n",
    "    x = 'date',\n",
    "    y = 'user_id',\n",
    "    data = uv_daily\n",
    ")\n",
    "\n",
    "plt.title('每日访客数')"
   ]
  },
  {
   "cell_type": "code",
   "execution_count": 62,
   "id": "10f2247f",
   "metadata": {},
   "outputs": [
    {
     "data": {
      "text/plain": [
       "<AxesSubplot:xlabel='date', ylabel='user_id'>"
      ]
     },
     "execution_count": 62,
     "metadata": {},
     "output_type": "execute_result"
    },
    {
     "data": {
      "image/png": "[encoded data removed]",
      "text/plain": [
       "<Figure size 1080x432 with 2 Axes>"
      ]
     },
     "metadata": {},
     "output_type": "display_data"
    }
   ],
   "source": [
    "# 试着将每日的浏览量和访客数放到一张图\n",
    "\n",
    "plt.figure(figsize=(15, 6))\n",
    "\n",
    "ax5 = plt.subplot(111)\n",
    "ax6 = ax5.twinx()\n",
    "\n",
    "sns.pointplot(\n",
    "    x = 'date',\n",
    "    y = 'user_id',\n",
    "    data = pv_daily,\n",
    "    ax = ax5,\n",
    "    color='red'\n",
    ")\n",
    "\n",
    "sns.pointplot(\n",
    "    x = 'date',\n",
    "    y = 'user_id',\n",
    "    data = uv_daily,\n",
    "    ax = ax6,\n",
    "    color='green'\n",
    ")"
   ]
  },
  {
   "cell_type": "markdown",
   "id": "8190094a",
   "metadata": {},
   "source": [
    "- 浏览量和访客数每日变化趋势大致相同，2018-04-04日前后用户数量变化波动较大，4月4日为清明节假日前一天，各数据量在当天均有明显下降，但之后逐步回升，推测应为节假日营销活动或推广拉新活动带来的影响。"
   ]
  },
  {
   "cell_type": "code",
   "execution_count": 63,
   "id": "206936f0",
   "metadata": {},
   "outputs": [],
   "source": [
    "# 每时浏览量\n",
    "\n",
    "pv_hourly = behavior[behavior['type'] == 'pv'].groupby('hour')['user_id'].count().reset_index()"
   ]
  },
  {
   "cell_type": "code",
   "execution_count": 64,
   "id": "e3f72c68",
   "metadata": {},
   "outputs": [],
   "source": [
    "# 每时访客数\n",
    "\n",
    "uv_hourly = behavior.groupby('hour')['user_id'].nunique().reset_index()"
   ]
  },
  {
   "cell_type": "code",
   "execution_count": 65,
   "id": "5c2eb9b0",
   "metadata": {},
   "outputs": [
    {
     "data": {
      "text/plain": [
       "Text(0.5, 1.0, '浏览量、访客数随小时的变化')"
      ]
     },
     "execution_count": 65,
     "metadata": {},
     "output_type": "execute_result"
    },
    {
     "data": {
      "image/png": "[encoded data removed]",
      "text/plain": [
       "<Figure size 1080x432 with 2 Axes>"
      ]
     },
     "metadata": {},
     "output_type": "display_data"
    }
   ],
   "source": [
    "# 两张图放到一起\n",
    "\n",
    "plt.figure(figsize=(15, 6))\n",
    "ax7 = plt.subplot(111)\n",
    "ax8 = ax7.twinx()\n",
    "\n",
    "\n",
    "# 浏览量随小时变化可视化\n",
    "sns.pointplot(\n",
    "    x = 'hour',\n",
    "    y = 'user_id',\n",
    "    data = pv_hourly,\n",
    "    ax = ax7,\n",
    "    color='red'\n",
    ")\n",
    "\n",
    "\n",
    "# 访客数随小时变化可视化\n",
    "\n",
    "sns.pointplot(\n",
    "    x = 'hour',\n",
    "    y = 'user_id',\n",
    "    data = uv_hourly,\n",
    "    ax = ax8,\n",
    "    color='green'\n",
    ")\n",
    "\n",
    "plt.title('浏览量、访客数随小时的变化')"
   ]
  },
  {
   "cell_type": "markdown",
   "id": "ff53b606",
   "metadata": {},
   "source": [
    "- 浏览量及访客数随小时变化趋势一致，在凌晨1点到凌晨5点之间，大部分用户正在休息，整体活跃度较低。凌晨5点到10点用户开始起床工作，活跃度逐渐增加，之后趋于平稳，下午6点之后大部分人恢复空闲，浏览量及访客数迎来了第二波攀升，在晚上8点中到达高峰，随后逐渐下降。可以考虑在上午9点及晚上8点增大商品推广力度，加大营销活动投入，可取的较好的收益，1点到5点之间适合做系统维护。"
   ]
  },
  {
   "cell_type": "code",
   "execution_count": 66,
   "id": "3d935922",
   "metadata": {},
   "outputs": [],
   "source": [
    "# 用户各操作随小时变化\n",
    "\n",
    "type_detail_hour = pd.pivot_table(index='hour', columns='type', data=behavior, values='user_id', aggfunc=np.size)"
   ]
  },
  {
   "cell_type": "code",
   "execution_count": 67,
   "id": "2f1e4565",
   "metadata": {},
   "outputs": [],
   "source": [
    "# 用户各操作随星期变化\n",
    "\n",
    "type_detail_weekday = pd.pivot_table(index='weekday', columns='type', data=behavior, values='user_id', aggfunc=np.size)"
   ]
  },
  {
   "cell_type": "code",
   "execution_count": 68,
   "id": "bce05edd",
   "metadata": {},
   "outputs": [],
   "source": [
    "type_detail_weekday = type_detail_weekday.reindex(['Monday','Tuesday','Wednesday','Thursday','Friday','Saturday','Sunday'])"
   ]
  },
  {
   "cell_type": "code",
   "execution_count": 69,
   "id": "f01d2580",
   "metadata": {},
   "outputs": [],
   "source": [
    "tdh_line = type_detail_hour.stack().reset_index().rename(columns={0: 'Value'})\n",
    "tdw_line = type_detail_weekday.stack().reset_index().rename(columns={0: 'Value'})\n",
    "\n",
    "tdh_line= tdh_line[~(tdh_line['type'] == 'pv')]\n",
    "tdw_line= tdw_line[~(tdw_line['type'] == 'pv')]"
   ]
  },
  {
   "cell_type": "code",
   "execution_count": 70,
   "id": "2cec0d01",
   "metadata": {},
   "outputs": [
    {
     "data": {
      "text/plain": [
       "Text(0.5, 1.0, '用户操作随小时变化')"
      ]
     },
     "execution_count": 70,
     "metadata": {},
     "output_type": "execute_result"
    },
    {
     "data": {
      "image/png": "[encoded data removed]",
      "text/plain": [
       "<Figure size 1152x432 with 1 Axes>"
      ]
     },
     "metadata": {},
     "output_type": "display_data"
    }
   ],
   "source": [
    "# 用户操作随小时变化可视化\n",
    "fig, ax = plt.subplots(figsize=[16,6])\n",
    "sns.pointplot(x='hour', y='Value', hue='type', data=tdh_line, linestyles='--')\n",
    "plt.title('用户操作随小时变化')"
   ]
  },
  {
   "cell_type": "markdown",
   "id": "5d4f81d5",
   "metadata": {},
   "source": [
    "- 用户操作随小时变化规律与PV、UV随小时规律相似，与用户作息规律相关，加入购物车和付款两条曲线贴合比比较紧密，说明大部分用户习惯加入购物车后直接购买。\n",
    "- 关注数相对较少，可以根据用户购物车内商品进行精准推送。评论数也相对较少，说明大部分用户不是很热衷对购物体验进行反馈，可以设置一些奖励制度提高用户评论数，增大用用户粘性。"
   ]
  },
  {
   "cell_type": "code",
   "execution_count": 71,
   "id": "db69d686",
   "metadata": {},
   "outputs": [
    {
     "data": {
      "text/plain": [
       "Text(0.5, 1.0, '用户操作随星期变化')"
      ]
     },
     "execution_count": 71,
     "metadata": {},
     "output_type": "execute_result"
    },
    {
     "data": {
      "image/png": "[encoded data removed]",
      "text/plain": [
       "<Figure size 1152x432 with 1 Axes>"
      ]
     },
     "metadata": {},
     "output_type": "display_data"
    }
   ],
   "source": [
    "# 用户操作随星期变化可视化\n",
    "fig, ax = plt.subplots(figsize=[16,6])\n",
    "sns.pointplot(x='weekday', y='Value', hue='type', data=tdw_line[~(tdw_line['type'] == 'pv')], linestyles='--')\n",
    "plt.title('用户操作随星期变化')"
   ]
  },
  {
   "cell_type": "markdown",
   "id": "fb773dbd",
   "metadata": {},
   "source": [
    "- 周一到周四工作日期间，用户操作随星期变化比较平稳，周五至周六进入休息日，用户操作明显增多，周日又恢复正常。"
   ]
  },
  {
   "cell_type": "markdown",
   "id": "8813f7dc",
   "metadata": {},
   "source": [
    "#### 用户行为转化漏斗"
   ]
  },
  {
   "cell_type": "code",
   "execution_count": 72,
   "id": "4b57aa99",
   "metadata": {},
   "outputs": [],
   "source": [
    "from pyecharts import options as opts\n",
    "from pyecharts.charts import Funnel\n",
    "import math"
   ]
  },
  {
   "cell_type": "code",
   "execution_count": 73,
   "id": "00d245fa",
   "metadata": {},
   "outputs": [
    {
     "data": {
      "text/plain": [
       "17          2018-04-11 15:21:43\n",
       "18          2018-04-11 15:14:54\n",
       "19          2018-04-11 15:14:13\n",
       "20          2018-04-11 15:22:25\n",
       "21          2018-04-11 15:14:26\n",
       "                   ...         \n",
       "37214218    2018-04-02 11:03:15\n",
       "37214219    2018-04-02 10:47:52\n",
       "37214220    2018-04-02 10:27:44\n",
       "37214226    2018-04-12 08:03:11\n",
       "37214234    2018-04-12 14:02:17\n",
       "Name: action_time, Length: 7540394, dtype: object"
      ]
     },
     "execution_count": 73,
     "metadata": {},
     "output_type": "execute_result"
    }
   ],
   "source": [
    "behavior['action_time']"
   ]
  },
  {
   "cell_type": "code",
   "execution_count": 74,
   "id": "87495f8f",
   "metadata": {},
   "outputs": [],
   "source": [
    "# action_time 转换数据类型\n",
    "behavior['action_time'] = pd.to_datetime(behavior['action_time'], format='%Y-%m-%d %H:%M:%S')"
   ]
  },
  {
   "cell_type": "code",
   "execution_count": 75,
   "id": "a8595ba1",
   "metadata": {},
   "outputs": [
    {
     "data": {
      "text/html": [
       "<div>\n",
       "<style scoped>\n",
       "    .dataframe tbody tr th:only-of-type {\n",
       "        vertical-align: middle;\n",
       "    }\n",
       "\n",
       "    .dataframe tbody tr th {\n",
       "        vertical-align: top;\n",
       "    }\n",
       "\n",
       "    .dataframe thead th {\n",
       "        text-align: right;\n",
       "    }\n",
       "</style>\n",
       "<table border=\"1\" class=\"dataframe\">\n",
       "  <thead>\n",
       "    <tr style=\"text-align: right;\">\n",
       "      <th></th>\n",
       "      <th>index</th>\n",
       "      <th>type</th>\n",
       "      <th>rate</th>\n",
       "    </tr>\n",
       "  </thead>\n",
       "  <tbody>\n",
       "    <tr>\n",
       "      <th>0</th>\n",
       "      <td>pv</td>\n",
       "      <td>6229177</td>\n",
       "      <td>0.826</td>\n",
       "    </tr>\n",
       "    <tr>\n",
       "      <th>1</th>\n",
       "      <td>cart</td>\n",
       "      <td>533890</td>\n",
       "      <td>0.071</td>\n",
       "    </tr>\n",
       "    <tr>\n",
       "      <th>2</th>\n",
       "      <td>pay</td>\n",
       "      <td>480149</td>\n",
       "      <td>0.064</td>\n",
       "    </tr>\n",
       "    <tr>\n",
       "      <th>3</th>\n",
       "      <td>comm</td>\n",
       "      <td>200399</td>\n",
       "      <td>0.027</td>\n",
       "    </tr>\n",
       "    <tr>\n",
       "      <th>4</th>\n",
       "      <td>fav</td>\n",
       "      <td>96779</td>\n",
       "      <td>0.013</td>\n",
       "    </tr>\n",
       "  </tbody>\n",
       "</table>\n",
       "</div>"
      ],
      "text/plain": [
       "  index     type   rate\n",
       "0    pv  6229177  0.826\n",
       "1  cart   533890  0.071\n",
       "2   pay   480149  0.064\n",
       "3  comm   200399  0.027\n",
       "4   fav    96779  0.013"
      ]
     },
     "execution_count": 75,
     "metadata": {},
     "output_type": "execute_result"
    }
   ],
   "source": [
    "# 用户整体行为分布\n",
    "\n",
    "type_dis = behavior['type'].value_counts().reset_index()\n",
    "type_dis['rate'] = round(type_dis['type'] / type_dis['type'].sum(), 3)\n",
    "type_dis"
   ]
  },
  {
   "cell_type": "code",
   "execution_count": 76,
   "id": "48bd50a5",
   "metadata": {},
   "outputs": [
    {
     "data": {
      "text/html": [
       "<style type=\"text/css\">\n",
       "#T_af3c8_row0_col2 {\n",
       "  width: 10em;\n",
       "  height: 80%;\n",
       "  background: linear-gradient(90deg,skyblue 100.0%, transparent 100.0%);\n",
       "}\n",
       "#T_af3c8_row1_col2 {\n",
       "  width: 10em;\n",
       "  height: 80%;\n",
       "  background: linear-gradient(90deg,skyblue 7.1%, transparent 7.1%);\n",
       "}\n",
       "#T_af3c8_row2_col2 {\n",
       "  width: 10em;\n",
       "  height: 80%;\n",
       "  background: linear-gradient(90deg,skyblue 6.3%, transparent 6.3%);\n",
       "}\n",
       "#T_af3c8_row3_col2 {\n",
       "  width: 10em;\n",
       "  height: 80%;\n",
       "  background: linear-gradient(90deg,skyblue 1.7%, transparent 1.7%);\n",
       "}\n",
       "#T_af3c8_row4_col2 {\n",
       "  width: 10em;\n",
       "  height: 80%;\n",
       "}\n",
       "</style>\n",
       "<table id=\"T_af3c8_\">\n",
       "  <thead>\n",
       "    <tr>\n",
       "      <th class=\"blank level0\" >&nbsp;</th>\n",
       "      <th class=\"col_heading level0 col0\" >index</th>\n",
       "      <th class=\"col_heading level0 col1\" >type</th>\n",
       "      <th class=\"col_heading level0 col2\" >rate</th>\n",
       "    </tr>\n",
       "  </thead>\n",
       "  <tbody>\n",
       "    <tr>\n",
       "      <th id=\"T_af3c8_level0_row0\" class=\"row_heading level0 row0\" >0</th>\n",
       "      <td id=\"T_af3c8_row0_col0\" class=\"data row0 col0\" >pv</td>\n",
       "      <td id=\"T_af3c8_row0_col1\" class=\"data row0 col1\" >6229177</td>\n",
       "      <td id=\"T_af3c8_row0_col2\" class=\"data row0 col2\" >0.826000</td>\n",
       "    </tr>\n",
       "    <tr>\n",
       "      <th id=\"T_af3c8_level0_row1\" class=\"row_heading level0 row1\" >1</th>\n",
       "      <td id=\"T_af3c8_row1_col0\" class=\"data row1 col0\" >cart</td>\n",
       "      <td id=\"T_af3c8_row1_col1\" class=\"data row1 col1\" >533890</td>\n",
       "      <td id=\"T_af3c8_row1_col2\" class=\"data row1 col2\" >0.071000</td>\n",
       "    </tr>\n",
       "    <tr>\n",
       "      <th id=\"T_af3c8_level0_row2\" class=\"row_heading level0 row2\" >2</th>\n",
       "      <td id=\"T_af3c8_row2_col0\" class=\"data row2 col0\" >pay</td>\n",
       "      <td id=\"T_af3c8_row2_col1\" class=\"data row2 col1\" >480149</td>\n",
       "      <td id=\"T_af3c8_row2_col2\" class=\"data row2 col2\" >0.064000</td>\n",
       "    </tr>\n",
       "    <tr>\n",
       "      <th id=\"T_af3c8_level0_row3\" class=\"row_heading level0 row3\" >3</th>\n",
       "      <td id=\"T_af3c8_row3_col0\" class=\"data row3 col0\" >comm</td>\n",
       "      <td id=\"T_af3c8_row3_col1\" class=\"data row3 col1\" >200399</td>\n",
       "      <td id=\"T_af3c8_row3_col2\" class=\"data row3 col2\" >0.027000</td>\n",
       "    </tr>\n",
       "    <tr>\n",
       "      <th id=\"T_af3c8_level0_row4\" class=\"row_heading level0 row4\" >4</th>\n",
       "      <td id=\"T_af3c8_row4_col0\" class=\"data row4 col0\" >fav</td>\n",
       "      <td id=\"T_af3c8_row4_col1\" class=\"data row4 col1\" >96779</td>\n",
       "      <td id=\"T_af3c8_row4_col2\" class=\"data row4 col2\" >0.013000</td>\n",
       "    </tr>\n",
       "  </tbody>\n",
       "</table>\n"
      ],
      "text/plain": [
       "<pandas.io.formats.style.Styler at 0x236bf05e848>"
      ]
     },
     "execution_count": 76,
     "metadata": {},
     "output_type": "execute_result"
    }
   ],
   "source": [
    "type_dis.style.bar(color='skyblue', subset='rate')"
   ]
  },
  {
   "cell_type": "markdown",
   "id": "ef93ce78",
   "metadata": {},
   "source": [
    "- 用户整体行为中，有82.6%行为为浏览，实际支付操作仅占6.4,除此之外，用户评论及收藏的行为占比也较低，应当增强网站有用户之间的互动，提高评论数量和收藏率。"
   ]
  },
  {
   "cell_type": "code",
   "execution_count": 77,
   "id": "3475e70e",
   "metadata": {},
   "outputs": [],
   "source": [
    "df_con = behavior[['user_id', 'sku_id', 'action_time', 'type']]"
   ]
  },
  {
   "cell_type": "code",
   "execution_count": 78,
   "id": "9fd539a8",
   "metadata": {},
   "outputs": [],
   "source": [
    "df_pv = df_con[df_con['type'] == 'pv']\n",
    "df_fav = df_con[df_con['type'] == 'fav']\n",
    "df_cart = df_con[df_con['type'] == 'cart']\n",
    "df_pay = df_con[df_con['type'] == 'pay']"
   ]
  },
  {
   "cell_type": "code",
   "execution_count": 79,
   "id": "aa70faac",
   "metadata": {},
   "outputs": [],
   "source": [
    "df_pv_uid = df_pv['user_id'].unique()\n",
    "df_fav_uid = df_fav['user_id'].unique()\n",
    "df_cart_uid = df_cart['user_id'].unique()\n",
    "df_pay_uid = df_pay['user_id'].unique()"
   ]
  },
  {
   "cell_type": "markdown",
   "id": "1386f5a1",
   "metadata": {},
   "source": [
    "##### pv - buy"
   ]
  },
  {
   "cell_type": "code",
   "execution_count": 80,
   "id": "067ef288",
   "metadata": {},
   "outputs": [],
   "source": [
    "fav_cart_list = set(df_cart_uid) | set(df_fav_uid)"
   ]
  },
  {
   "cell_type": "code",
   "execution_count": 81,
   "id": "bb9c1543",
   "metadata": {},
   "outputs": [],
   "source": [
    "df_pv_pay = pd.merge(left=df_pv, right=df_pay, how='inner', on=['user_id', 'sku_id'], suffixes=['_pv', '_pay']) "
   ]
  },
  {
   "cell_type": "code",
   "execution_count": 82,
   "id": "316b3a7c",
   "metadata": {},
   "outputs": [],
   "source": [
    "# 过滤挑个条件：\n",
    "# 1. 没有fav（收藏）和cart（加购）的用户\n",
    "# 2. pay操作一定要在pv操作前\n",
    "\n",
    "df_pv_pay = df_pv_pay[(~df_pv_pay['user_id'].isin(fav_cart_list)) & (df_pv_pay['action_time_pay'] > df_pv_pay['action_time_pv'])]"
   ]
  },
  {
   "cell_type": "code",
   "execution_count": 83,
   "id": "e2140c66",
   "metadata": {},
   "outputs": [],
   "source": [
    "uv = behavior['user_id'].nunique()\n",
    "pv_pay_num = df_pv_pay['user_id'].nunique()"
   ]
  },
  {
   "cell_type": "code",
   "execution_count": 84,
   "id": "2eab7265",
   "metadata": {},
   "outputs": [],
   "source": [
    "pv_pay_data = pd.DataFrame({'type': ['浏览', '付款'], 'num': [uv, pv_pay_num]})\n",
    "pv_pay_data['conversion_rate'] = round(pv_pay_data['num'] / pv_pay_data['num'][0], 4) * 100"
   ]
  },
  {
   "cell_type": "code",
   "execution_count": 85,
   "id": "c4dfdaf8",
   "metadata": {},
   "outputs": [
    {
     "data": {
      "text/html": [
       "<div>\n",
       "<style scoped>\n",
       "    .dataframe tbody tr th:only-of-type {\n",
       "        vertical-align: middle;\n",
       "    }\n",
       "\n",
       "    .dataframe tbody tr th {\n",
       "        vertical-align: top;\n",
       "    }\n",
       "\n",
       "    .dataframe thead th {\n",
       "        text-align: right;\n",
       "    }\n",
       "</style>\n",
       "<table border=\"1\" class=\"dataframe\">\n",
       "  <thead>\n",
       "    <tr style=\"text-align: right;\">\n",
       "      <th></th>\n",
       "      <th>type</th>\n",
       "      <th>num</th>\n",
       "      <th>conversion_rate</th>\n",
       "    </tr>\n",
       "  </thead>\n",
       "  <tbody>\n",
       "    <tr>\n",
       "      <th>0</th>\n",
       "      <td>浏览</td>\n",
       "      <td>728959</td>\n",
       "      <td>100.00</td>\n",
       "    </tr>\n",
       "    <tr>\n",
       "      <th>1</th>\n",
       "      <td>付款</td>\n",
       "      <td>156456</td>\n",
       "      <td>21.46</td>\n",
       "    </tr>\n",
       "  </tbody>\n",
       "</table>\n",
       "</div>"
      ],
      "text/plain": [
       "  type     num  conversion_rate\n",
       "0   浏览  728959           100.00\n",
       "1   付款  156456            21.46"
      ]
     },
     "execution_count": 85,
     "metadata": {},
     "output_type": "execute_result"
    }
   ],
   "source": [
    "pv_pay_data"
   ]
  },
  {
   "cell_type": "code",
   "execution_count": 86,
   "id": "ddd75454",
   "metadata": {},
   "outputs": [],
   "source": [
    "attr1 = list(pv_pay_data['type'])\n",
    "values1 = list(pv_pay_data['conversion_rate'])\n",
    "data1 = [[attr1[i], values1[i]] for i in range(len(attr1))]"
   ]
  },
  {
   "cell_type": "code",
   "execution_count": 87,
   "id": "2fec8698",
   "metadata": {},
   "outputs": [
    {
     "data": {
      "text/plain": [
       "[['浏览', 100.0], ['付款', 21.46]]"
      ]
     },
     "execution_count": 87,
     "metadata": {},
     "output_type": "execute_result"
    }
   ],
   "source": [
    "data1"
   ]
  },
  {
   "cell_type": "code",
   "execution_count": 88,
   "id": "a55971da",
   "metadata": {},
   "outputs": [
    {
     "data": {
      "text/html": [
       "\n",
       "<script>\n",
       "    require.config({\n",
       "        paths: {\n",
       "            'echarts':'https://assets.pyecharts.org/assets/echarts.min'\n",
       "        }\n",
       "    });\n",
       "</script>\n",
       "\n",
       "        <div id=\"bb850d0944664310b3eefb4735102d3d\" style=\"width:600px; height:300px;\"></div>\n",
       "\n",
       "<script>\n",
       "        require(['echarts'], function(echarts) {\n",
       "                var chart_bb850d0944664310b3eefb4735102d3d = echarts.init(\n",
       "                    document.getElementById('bb850d0944664310b3eefb4735102d3d'), 'white', {renderer: 'canvas'});\n",
       "                var option_bb850d0944664310b3eefb4735102d3d = {\n",
       "    \"animation\": true,\n",
       "    \"animationThreshold\": 2000,\n",
       "    \"animationDuration\": 1000,\n",
       "    \"animationEasing\": \"cubicOut\",\n",
       "    \"animationDelay\": 0,\n",
       "    \"animationDurationUpdate\": 300,\n",
       "    \"animationEasingUpdate\": \"cubicOut\",\n",
       "    \"animationDelayUpdate\": 0,\n",
       "    \"color\": [\n",
       "        \"#c23531\",\n",
       "        \"#2f4554\",\n",
       "        \"#61a0a8\",\n",
       "        \"#d48265\",\n",
       "        \"#749f83\",\n",
       "        \"#ca8622\",\n",
       "        \"#bda29a\",\n",
       "        \"#6e7074\",\n",
       "        \"#546570\",\n",
       "        \"#c4ccd3\",\n",
       "        \"#f05b72\",\n",
       "        \"#ef5b9c\",\n",
       "        \"#f47920\",\n",
       "        \"#905a3d\",\n",
       "        \"#fab27b\",\n",
       "        \"#2a5caa\",\n",
       "        \"#444693\",\n",
       "        \"#726930\",\n",
       "        \"#b2d235\",\n",
       "        \"#6d8346\",\n",
       "        \"#ac6767\",\n",
       "        \"#1d953f\",\n",
       "        \"#6950a1\",\n",
       "        \"#918597\"\n",
       "    ],\n",
       "    \"series\": [\n",
       "        {\n",
       "            \"type\": \"funnel\",\n",
       "            \"data\": [\n",
       "                {\n",
       "                    \"name\": \"\\u6d4f\\u89c8\",\n",
       "                    \"value\": 100.0\n",
       "                },\n",
       "                {\n",
       "                    \"name\": \"\\u4ed8\\u6b3e\",\n",
       "                    \"value\": 21.46\n",
       "                }\n",
       "            ],\n",
       "            \"sort\": \"descending\",\n",
       "            \"gap\": 2,\n",
       "            \"label\": {\n",
       "                \"show\": true,\n",
       "                \"position\": \"top\",\n",
       "                \"margin\": 8\n",
       "            }\n",
       "        }\n",
       "    ],\n",
       "    \"legend\": [\n",
       "        {\n",
       "            \"data\": [\n",
       "                \"\\u4ed8\\u6b3e\",\n",
       "                \"\\u6d4f\\u89c8\"\n",
       "            ],\n",
       "            \"selected\": {\n",
       "                \"\\u6d4f\\u89c8\": true,\n",
       "                \"\\u4ed8\\u6b3e\": true\n",
       "            },\n",
       "            \"show\": true,\n",
       "            \"padding\": 5,\n",
       "            \"itemGap\": 10,\n",
       "            \"itemWidth\": 25,\n",
       "            \"itemHeight\": 14\n",
       "        }\n",
       "    ],\n",
       "    \"tooltip\": {\n",
       "        \"show\": true,\n",
       "        \"trigger\": \"item\",\n",
       "        \"triggerOn\": \"mousemove|click\",\n",
       "        \"axisPointer\": {\n",
       "            \"type\": \"line\"\n",
       "        },\n",
       "        \"textStyle\": {\n",
       "            \"fontSize\": 14\n",
       "        },\n",
       "        \"borderWidth\": 0\n",
       "    },\n",
       "    \"title\": [\n",
       "        {\n",
       "            \"text\": \"\\u7528\\u6237\\u884c\\u4e3a\\u8f6c\\u5316\\u6f0f\\u6597\\u56fe\",\n",
       "            \"subtext\": \"\\u8fd9\\u662f\\u5565\\u6807\\u9898\\uff0c \\u597d\\u50cf\\u662f\\u526f\\u6807\\u9898\",\n",
       "            \"padding\": 5,\n",
       "            \"itemGap\": 10\n",
       "        }\n",
       "    ]\n",
       "};\n",
       "                chart_bb850d0944664310b3eefb4735102d3d.setOption(option_bb850d0944664310b3eefb4735102d3d);\n",
       "        });\n",
       "    </script>\n"
      ],
      "text/plain": [
       "<pyecharts.render.display.HTML at 0x236c221ff48>"
      ]
     },
     "execution_count": 88,
     "metadata": {},
     "output_type": "execute_result"
    }
   ],
   "source": [
    "# 用户行为转化漏斗可视化\n",
    "\n",
    "pv_pay = (\n",
    "    Funnel(init_opts=opts.InitOpts(width='600px', height='300px'))\n",
    "    .add(\n",
    "        series_name='',\n",
    "        data_pair=data1,\n",
    "        gap=2\n",
    "    )\n",
    "    .set_global_opts(title_opts=opts.TitleOpts(title='用户行为转化漏斗图',subtitle='这是啥标题， 好像是副标题'))\n",
    ")\n",
    "\n",
    "pv_pay.render_notebook()"
   ]
  },
  {
   "cell_type": "markdown",
   "id": "42c050c8",
   "metadata": {},
   "source": [
    "##### pv - cart - pay"
   ]
  },
  {
   "cell_type": "code",
   "execution_count": 89,
   "id": "cbd5f0b1",
   "metadata": {},
   "outputs": [],
   "source": [
    "df_pv_cart = pd.merge(left=df_pv, right=df_cart, how='inner', on=['user_id', 'sku_id'], suffixes=['_pv', '_cart'])"
   ]
  },
  {
   "cell_type": "code",
   "execution_count": 90,
   "id": "b6ac5bcb",
   "metadata": {},
   "outputs": [],
   "source": [
    "df_pv_cart = df_pv_cart[(~df_pv_cart['user_id'].isin(df_fav['user_id'])) & (df_pv_cart['action_time_cart'] > df_pv_cart['action_time_pv'])]"
   ]
  },
  {
   "cell_type": "code",
   "execution_count": 91,
   "id": "7cfdd01b",
   "metadata": {},
   "outputs": [],
   "source": [
    "df_pv_cart_pay = pd.merge(left=df_pv_cart, right=df_pay, how='inner', on=['user_id', 'sku_id'])\n",
    "df_pv_cart_pay = df_pv_cart_pay.rename(columns={'action_time': 'action_time_pay'})"
   ]
  },
  {
   "cell_type": "code",
   "execution_count": 92,
   "id": "d39e7082",
   "metadata": {},
   "outputs": [],
   "source": [
    "df_pv_cart_pay = df_pv_cart_pay[(~df_pv_cart_pay['user_id'].isin(df_fav['user_id'])) & (df_pv_cart_pay['action_time_pay'] > df_pv_cart_pay['action_time_cart'])]"
   ]
  },
  {
   "cell_type": "code",
   "execution_count": 93,
   "id": "4f20f671",
   "metadata": {},
   "outputs": [],
   "source": [
    "uv = behavior['user_id'].nunique()\n",
    "pv_cart_num = df_pv_cart['user_id'].nunique()\n",
    "pv_cart_pay_num = df_pv_cart_pay['user_id'].nunique()"
   ]
  },
  {
   "cell_type": "code",
   "execution_count": 94,
   "id": "ec8179e7",
   "metadata": {},
   "outputs": [],
   "source": [
    "pv_cart_pay_data = pd.DataFrame({'type': ['浏览', '加购', '购买'], 'num': [uv, pv_cart_num, pv_cart_pay_num]})\n",
    "pv_cart_pay_data['conversion_rate'] = round(pv_cart_pay_data['num'] / pv_cart_pay_data['num'][0], 4) * 100"
   ]
  },
  {
   "cell_type": "code",
   "execution_count": 95,
   "id": "e95e735b",
   "metadata": {},
   "outputs": [
    {
     "data": {
      "text/html": [
       "<div>\n",
       "<style scoped>\n",
       "    .dataframe tbody tr th:only-of-type {\n",
       "        vertical-align: middle;\n",
       "    }\n",
       "\n",
       "    .dataframe tbody tr th {\n",
       "        vertical-align: top;\n",
       "    }\n",
       "\n",
       "    .dataframe thead th {\n",
       "        text-align: right;\n",
       "    }\n",
       "</style>\n",
       "<table border=\"1\" class=\"dataframe\">\n",
       "  <thead>\n",
       "    <tr style=\"text-align: right;\">\n",
       "      <th></th>\n",
       "      <th>type</th>\n",
       "      <th>num</th>\n",
       "      <th>conversion_rate</th>\n",
       "    </tr>\n",
       "  </thead>\n",
       "  <tbody>\n",
       "    <tr>\n",
       "      <th>0</th>\n",
       "      <td>浏览</td>\n",
       "      <td>728959</td>\n",
       "      <td>100.00</td>\n",
       "    </tr>\n",
       "    <tr>\n",
       "      <th>1</th>\n",
       "      <td>加购</td>\n",
       "      <td>155554</td>\n",
       "      <td>21.34</td>\n",
       "    </tr>\n",
       "    <tr>\n",
       "      <th>2</th>\n",
       "      <td>购买</td>\n",
       "      <td>90893</td>\n",
       "      <td>12.47</td>\n",
       "    </tr>\n",
       "  </tbody>\n",
       "</table>\n",
       "</div>"
      ],
      "text/plain": [
       "  type     num  conversion_rate\n",
       "0   浏览  728959           100.00\n",
       "1   加购  155554            21.34\n",
       "2   购买   90893            12.47"
      ]
     },
     "execution_count": 95,
     "metadata": {},
     "output_type": "execute_result"
    }
   ],
   "source": [
    "pv_cart_pay_data"
   ]
  },
  {
   "cell_type": "code",
   "execution_count": 96,
   "id": "baa8a90f",
   "metadata": {},
   "outputs": [
    {
     "data": {
      "text/plain": [
       "'浏览'"
      ]
     },
     "execution_count": 96,
     "metadata": {},
     "output_type": "execute_result"
    }
   ],
   "source": [
    "# 测试，忽略\n",
    "pv_cart_pay_data['type'][0]"
   ]
  },
  {
   "cell_type": "code",
   "execution_count": 97,
   "id": "f4a865ea",
   "metadata": {},
   "outputs": [],
   "source": [
    "data2 = [[pv_cart_pay_data['type'][i], pv_cart_pay_data['conversion_rate'][i]] for i in range(len(pv_cart_pay_data['type']))]"
   ]
  },
  {
   "cell_type": "code",
   "execution_count": 98,
   "id": "1122f2b6",
   "metadata": {},
   "outputs": [
    {
     "data": {
      "text/plain": [
       "[['浏览', 100.0], ['加购', 21.34], ['购买', 12.47]]"
      ]
     },
     "execution_count": 98,
     "metadata": {},
     "output_type": "execute_result"
    }
   ],
   "source": [
    "data2"
   ]
  },
  {
   "cell_type": "code",
   "execution_count": 99,
   "id": "8a68fcee",
   "metadata": {},
   "outputs": [
    {
     "data": {
      "text/html": [
       "\n",
       "<script>\n",
       "    require.config({\n",
       "        paths: {\n",
       "            'echarts':'https://assets.pyecharts.org/assets/echarts.min'\n",
       "        }\n",
       "    });\n",
       "</script>\n",
       "\n",
       "        <div id=\"0b91bec6743d4de6977e1a08219c7b54\" style=\"width:600px; height:300px;\"></div>\n",
       "\n",
       "<script>\n",
       "        require(['echarts'], function(echarts) {\n",
       "                var chart_0b91bec6743d4de6977e1a08219c7b54 = echarts.init(\n",
       "                    document.getElementById('0b91bec6743d4de6977e1a08219c7b54'), 'white', {renderer: 'canvas'});\n",
       "                var option_0b91bec6743d4de6977e1a08219c7b54 = {\n",
       "    \"animation\": true,\n",
       "    \"animationThreshold\": 2000,\n",
       "    \"animationDuration\": 1000,\n",
       "    \"animationEasing\": \"cubicOut\",\n",
       "    \"animationDelay\": 0,\n",
       "    \"animationDurationUpdate\": 300,\n",
       "    \"animationEasingUpdate\": \"cubicOut\",\n",
       "    \"animationDelayUpdate\": 0,\n",
       "    \"color\": [\n",
       "        \"#c23531\",\n",
       "        \"#2f4554\",\n",
       "        \"#61a0a8\",\n",
       "        \"#d48265\",\n",
       "        \"#749f83\",\n",
       "        \"#ca8622\",\n",
       "        \"#bda29a\",\n",
       "        \"#6e7074\",\n",
       "        \"#546570\",\n",
       "        \"#c4ccd3\",\n",
       "        \"#f05b72\",\n",
       "        \"#ef5b9c\",\n",
       "        \"#f47920\",\n",
       "        \"#905a3d\",\n",
       "        \"#fab27b\",\n",
       "        \"#2a5caa\",\n",
       "        \"#444693\",\n",
       "        \"#726930\",\n",
       "        \"#b2d235\",\n",
       "        \"#6d8346\",\n",
       "        \"#ac6767\",\n",
       "        \"#1d953f\",\n",
       "        \"#6950a1\",\n",
       "        \"#918597\"\n",
       "    ],\n",
       "    \"series\": [\n",
       "        {\n",
       "            \"type\": \"funnel\",\n",
       "            \"data\": [\n",
       "                {\n",
       "                    \"name\": \"\\u6d4f\\u89c8\",\n",
       "                    \"value\": 100.0\n",
       "                },\n",
       "                {\n",
       "                    \"name\": \"\\u52a0\\u8d2d\",\n",
       "                    \"value\": 21.34\n",
       "                },\n",
       "                {\n",
       "                    \"name\": \"\\u8d2d\\u4e70\",\n",
       "                    \"value\": 12.47\n",
       "                }\n",
       "            ],\n",
       "            \"sort\": \"descending\",\n",
       "            \"gap\": 2,\n",
       "            \"label\": {\n",
       "                \"show\": true,\n",
       "                \"position\": \"top\",\n",
       "                \"margin\": 8\n",
       "            }\n",
       "        }\n",
       "    ],\n",
       "    \"legend\": [\n",
       "        {\n",
       "            \"data\": [\n",
       "                \"\\u6d4f\\u89c8\",\n",
       "                \"\\u8d2d\\u4e70\",\n",
       "                \"\\u52a0\\u8d2d\"\n",
       "            ],\n",
       "            \"selected\": {\n",
       "                \"\\u6d4f\\u89c8\": true,\n",
       "                \"\\u52a0\\u8d2d\": true,\n",
       "                \"\\u8d2d\\u4e70\": true\n",
       "            },\n",
       "            \"show\": true,\n",
       "            \"padding\": 5,\n",
       "            \"itemGap\": 10,\n",
       "            \"itemWidth\": 25,\n",
       "            \"itemHeight\": 14\n",
       "        }\n",
       "    ],\n",
       "    \"tooltip\": {\n",
       "        \"show\": true,\n",
       "        \"trigger\": \"item\",\n",
       "        \"triggerOn\": \"mousemove|click\",\n",
       "        \"axisPointer\": {\n",
       "            \"type\": \"line\"\n",
       "        },\n",
       "        \"textStyle\": {\n",
       "            \"fontSize\": 14\n",
       "        },\n",
       "        \"borderWidth\": 0\n",
       "    },\n",
       "    \"title\": [\n",
       "        {\n",
       "            \"text\": \"\\u7528\\u6237\\u884c\\u4e3a\\u8f6c\\u5316\\u6f0f\\u6597\\u56fe\",\n",
       "            \"padding\": 5,\n",
       "            \"itemGap\": 10\n",
       "        }\n",
       "    ]\n",
       "};\n",
       "                chart_0b91bec6743d4de6977e1a08219c7b54.setOption(option_0b91bec6743d4de6977e1a08219c7b54);\n",
       "        });\n",
       "    </script>\n"
      ],
      "text/plain": [
       "<pyecharts.render.display.HTML at 0x236c2223508>"
      ]
     },
     "execution_count": 99,
     "metadata": {},
     "output_type": "execute_result"
    }
   ],
   "source": [
    "pv_cart_pay = (\n",
    "    Funnel(init_opts=opts.InitOpts(width='600px', height='300px'))\n",
    "    .add(\n",
    "        series_name='',\n",
    "        data_pair=data2,\n",
    "        gap=2\n",
    "    )\n",
    "    .set_global_opts(title_opts=opts.TitleOpts(title='用户行为转化漏斗图'))\n",
    ")\n",
    "\n",
    "pv_cart_pay.render_notebook()"
   ]
  },
  {
   "cell_type": "markdown",
   "id": "eb9c904b",
   "metadata": {},
   "source": [
    "##### pv - fav - pay"
   ]
  },
  {
   "cell_type": "code",
   "execution_count": 100,
   "id": "4da180c2",
   "metadata": {},
   "outputs": [],
   "source": [
    "df_pv_fav = pd.merge(left=df_pv, right=df_fav, how='inner', on=['user_id', 'sku_id'], suffixes=['_pv', '_fav'])"
   ]
  },
  {
   "cell_type": "code",
   "execution_count": 101,
   "id": "3cdc9292",
   "metadata": {},
   "outputs": [],
   "source": [
    "df_pv_fav = df_pv_fav[(~df_pv_fav['user_id'].isin(df_cart['user_id'])) & (df_pv_fav['action_time_fav'] > df_pv_fav['action_time_pv'])]"
   ]
  },
  {
   "cell_type": "code",
   "execution_count": 102,
   "id": "bbdbec71",
   "metadata": {},
   "outputs": [],
   "source": [
    "df_pv_fav_pay = pd.merge(left=df_pv_fav, right=df_pay, how='inner', on=['user_id', 'sku_id'])\n",
    "df_pv_fav_pay = df_pv_fav_pay.rename(columns={'action_time': 'action_time_pay'})"
   ]
  },
  {
   "cell_type": "code",
   "execution_count": 103,
   "id": "f67466f2",
   "metadata": {},
   "outputs": [],
   "source": [
    "df_pv_fav_pay = df_pv_fav_pay[(~df_pv_fav_pay['user_id'].isin(df_cart['user_id'])) & (df_pv_fav_pay['action_time_pay'] > df_pv_fav_pay['action_time_fav'])]"
   ]
  },
  {
   "cell_type": "code",
   "execution_count": 104,
   "id": "0d5a6da0",
   "metadata": {},
   "outputs": [],
   "source": [
    "uv = behavior['user_id'].nunique()\n",
    "pv_fav_num = df_pv_cart['user_id'].nunique()\n",
    "pv_fav_pay_num = df_pv_fav_pay['action_time_pay'].nunique()"
   ]
  },
  {
   "cell_type": "code",
   "execution_count": 105,
   "id": "ec4f43d8",
   "metadata": {},
   "outputs": [],
   "source": [
    "pv_fav_pay_data = pd.DataFrame({'type': ['浏览', '收藏', '付款'], 'num': [uv, pv_fav_num, pv_fav_pay_num]})\n",
    "pv_fav_pay_data['conversion_rate'] = round(pv_fav_pay_data['num'] / pv_fav_pay_data['num'][0], 4) * 100"
   ]
  },
  {
   "cell_type": "code",
   "execution_count": 106,
   "id": "45a34623",
   "metadata": {},
   "outputs": [
    {
     "data": {
      "text/html": [
       "<div>\n",
       "<style scoped>\n",
       "    .dataframe tbody tr th:only-of-type {\n",
       "        vertical-align: middle;\n",
       "    }\n",
       "\n",
       "    .dataframe tbody tr th {\n",
       "        vertical-align: top;\n",
       "    }\n",
       "\n",
       "    .dataframe thead th {\n",
       "        text-align: right;\n",
       "    }\n",
       "</style>\n",
       "<table border=\"1\" class=\"dataframe\">\n",
       "  <thead>\n",
       "    <tr style=\"text-align: right;\">\n",
       "      <th></th>\n",
       "      <th>type</th>\n",
       "      <th>num</th>\n",
       "      <th>conversion_rate</th>\n",
       "    </tr>\n",
       "  </thead>\n",
       "  <tbody>\n",
       "    <tr>\n",
       "      <th>0</th>\n",
       "      <td>浏览</td>\n",
       "      <td>728959</td>\n",
       "      <td>100.00</td>\n",
       "    </tr>\n",
       "    <tr>\n",
       "      <th>1</th>\n",
       "      <td>收藏</td>\n",
       "      <td>155554</td>\n",
       "      <td>21.34</td>\n",
       "    </tr>\n",
       "    <tr>\n",
       "      <th>2</th>\n",
       "      <td>付款</td>\n",
       "      <td>12513</td>\n",
       "      <td>1.72</td>\n",
       "    </tr>\n",
       "  </tbody>\n",
       "</table>\n",
       "</div>"
      ],
      "text/plain": [
       "  type     num  conversion_rate\n",
       "0   浏览  728959           100.00\n",
       "1   收藏  155554            21.34\n",
       "2   付款   12513             1.72"
      ]
     },
     "execution_count": 106,
     "metadata": {},
     "output_type": "execute_result"
    }
   ],
   "source": [
    "pv_fav_pay_data"
   ]
  },
  {
   "cell_type": "code",
   "execution_count": 107,
   "id": "88f2b7ac",
   "metadata": {},
   "outputs": [],
   "source": [
    "data3 = [[pv_fav_pay_data['type'][i], [pv_fav_pay_data['conversion_rate'][i]]] for i in range(len(pv_fav_pay_data['type']))]"
   ]
  },
  {
   "cell_type": "code",
   "execution_count": 108,
   "id": "bbe872de",
   "metadata": {},
   "outputs": [
    {
     "data": {
      "text/plain": [
       "[['浏览', [100.0]], ['收藏', [21.34]], ['付款', [1.72]]]"
      ]
     },
     "execution_count": 108,
     "metadata": {},
     "output_type": "execute_result"
    }
   ],
   "source": [
    "data3"
   ]
  },
  {
   "cell_type": "code",
   "execution_count": 109,
   "id": "f8b4a5bd",
   "metadata": {},
   "outputs": [
    {
     "data": {
      "text/html": [
       "\n",
       "<script>\n",
       "    require.config({\n",
       "        paths: {\n",
       "            'echarts':'https://assets.pyecharts.org/assets/echarts.min'\n",
       "        }\n",
       "    });\n",
       "</script>\n",
       "\n",
       "        <div id=\"6482fa67830b43faa9d1166fcca6bf85\" style=\"width:600px; height:300px;\"></div>\n",
       "\n",
       "<script>\n",
       "        require(['echarts'], function(echarts) {\n",
       "                var chart_6482fa67830b43faa9d1166fcca6bf85 = echarts.init(\n",
       "                    document.getElementById('6482fa67830b43faa9d1166fcca6bf85'), 'white', {renderer: 'canvas'});\n",
       "                var option_6482fa67830b43faa9d1166fcca6bf85 = {\n",
       "    \"animation\": true,\n",
       "    \"animationThreshold\": 2000,\n",
       "    \"animationDuration\": 1000,\n",
       "    \"animationEasing\": \"cubicOut\",\n",
       "    \"animationDelay\": 0,\n",
       "    \"animationDurationUpdate\": 300,\n",
       "    \"animationEasingUpdate\": \"cubicOut\",\n",
       "    \"animationDelayUpdate\": 0,\n",
       "    \"color\": [\n",
       "        \"#c23531\",\n",
       "        \"#2f4554\",\n",
       "        \"#61a0a8\",\n",
       "        \"#d48265\",\n",
       "        \"#749f83\",\n",
       "        \"#ca8622\",\n",
       "        \"#bda29a\",\n",
       "        \"#6e7074\",\n",
       "        \"#546570\",\n",
       "        \"#c4ccd3\",\n",
       "        \"#f05b72\",\n",
       "        \"#ef5b9c\",\n",
       "        \"#f47920\",\n",
       "        \"#905a3d\",\n",
       "        \"#fab27b\",\n",
       "        \"#2a5caa\",\n",
       "        \"#444693\",\n",
       "        \"#726930\",\n",
       "        \"#b2d235\",\n",
       "        \"#6d8346\",\n",
       "        \"#ac6767\",\n",
       "        \"#1d953f\",\n",
       "        \"#6950a1\",\n",
       "        \"#918597\"\n",
       "    ],\n",
       "    \"series\": [\n",
       "        {\n",
       "            \"type\": \"funnel\",\n",
       "            \"data\": [\n",
       "                {\n",
       "                    \"name\": \"\\u6d4f\\u89c8\",\n",
       "                    \"value\": [\n",
       "                        100.0\n",
       "                    ]\n",
       "                },\n",
       "                {\n",
       "                    \"name\": \"\\u6536\\u85cf\",\n",
       "                    \"value\": [\n",
       "                        21.34\n",
       "                    ]\n",
       "                },\n",
       "                {\n",
       "                    \"name\": \"\\u4ed8\\u6b3e\",\n",
       "                    \"value\": [\n",
       "                        1.72\n",
       "                    ]\n",
       "                }\n",
       "            ],\n",
       "            \"sort\": \"descending\",\n",
       "            \"gap\": 2,\n",
       "            \"label\": {\n",
       "                \"show\": true,\n",
       "                \"position\": \"top\",\n",
       "                \"margin\": 8\n",
       "            }\n",
       "        }\n",
       "    ],\n",
       "    \"legend\": [\n",
       "        {\n",
       "            \"data\": [\n",
       "                \"\\u4ed8\\u6b3e\",\n",
       "                \"\\u6536\\u85cf\",\n",
       "                \"\\u6d4f\\u89c8\"\n",
       "            ],\n",
       "            \"selected\": {\n",
       "                \"\\u6d4f\\u89c8\": true,\n",
       "                \"\\u6536\\u85cf\": true,\n",
       "                \"\\u4ed8\\u6b3e\": true\n",
       "            },\n",
       "            \"show\": true,\n",
       "            \"padding\": 5,\n",
       "            \"itemGap\": 10,\n",
       "            \"itemWidth\": 25,\n",
       "            \"itemHeight\": 14\n",
       "        }\n",
       "    ],\n",
       "    \"tooltip\": {\n",
       "        \"show\": true,\n",
       "        \"trigger\": \"item\",\n",
       "        \"triggerOn\": \"mousemove|click\",\n",
       "        \"axisPointer\": {\n",
       "            \"type\": \"line\"\n",
       "        },\n",
       "        \"textStyle\": {\n",
       "            \"fontSize\": 14\n",
       "        },\n",
       "        \"borderWidth\": 0\n",
       "    },\n",
       "    \"title\": [\n",
       "        {\n",
       "            \"text\": \"\\u6807\\u9898\",\n",
       "            \"padding\": 5,\n",
       "            \"itemGap\": 10\n",
       "        }\n",
       "    ]\n",
       "};\n",
       "                chart_6482fa67830b43faa9d1166fcca6bf85.setOption(option_6482fa67830b43faa9d1166fcca6bf85);\n",
       "        });\n",
       "    </script>\n"
      ],
      "text/plain": [
       "<pyecharts.render.display.HTML at 0x236c2225c88>"
      ]
     },
     "execution_count": 109,
     "metadata": {},
     "output_type": "execute_result"
    }
   ],
   "source": [
    "pv_fav_pay = (\n",
    "    Funnel(init_opts=opts.InitOpts(width='600px', height='300px'))\n",
    "    .add(\n",
    "        series_name='',\n",
    "        data_pair=data3,\n",
    "        gap=2\n",
    "    )\n",
    "    .set_global_opts(title_opts=opts.TitleOpts(title='标题'))\n",
    ")\n",
    "\n",
    "pv_fav_pay.render_notebook()"
   ]
  },
  {
   "cell_type": "markdown",
   "id": "160bb9ee",
   "metadata": {},
   "source": [
    "##### pv - fav - cart - pay"
   ]
  },
  {
   "cell_type": "code",
   "execution_count": 110,
   "id": "9517cdf5",
   "metadata": {},
   "outputs": [],
   "source": [
    "# pv - fav\n",
    "\n",
    "df_pv_fav = pd.merge(left=df_pv, right=df_fav, how='inner', on=['user_id', 'sku_id'], suffixes=['_pv', '_fav'])\n",
    "df_pv_fav = df_pv_fav[df_pv_fav['action_time_fav'] > df_pv_fav['action_time_pv']]"
   ]
  },
  {
   "cell_type": "code",
   "execution_count": 111,
   "id": "b95411b6",
   "metadata": {},
   "outputs": [],
   "source": [
    "# pv - fav - cart\n",
    "\n",
    "df_pv_fav_cart = pd.merge(left=df_pv_fav, right=df_cart, how='inner', on=['user_id', 'sku_id'])\n",
    "df_pv_fav_cart = df_pv_fav_cart.rename(columns={'action_time': 'action_time_cart', 'type': 'type_cart'})"
   ]
  },
  {
   "cell_type": "code",
   "execution_count": 112,
   "id": "fb844b1d",
   "metadata": {},
   "outputs": [],
   "source": [
    "# pv - fav - cart - pay\n",
    "\n",
    "df_pv_fav_cart_pay = pd.merge(left=df_pv_fav_cart, right=df_pay, how='inner', on=['user_id', 'sku_id'])\n",
    "df_pv_fav_cart_pay = df_pv_fav_cart_pay.rename(columns={'action_time': 'action_time_pay', 'type': 'type_pay'})"
   ]
  },
  {
   "cell_type": "code",
   "execution_count": 113,
   "id": "5b14d046",
   "metadata": {},
   "outputs": [],
   "source": [
    "uv = behavior['user_id'].nunique()\n",
    "pv_fav_num = df_pv_fav['user_id'].nunique()\n",
    "pv_fav_cart_num = df_pv_fav_cart['user_id'].nunique()\n",
    "pv_fav_cart_pay_num = df_pv_fav_cart_pay['user_id'].nunique()"
   ]
  },
  {
   "cell_type": "code",
   "execution_count": 114,
   "id": "d0f09973",
   "metadata": {},
   "outputs": [],
   "source": [
    "pv_fav_cart_pay_data = pd.DataFrame({'type': ['浏览', '收藏', '加购', '付款'], 'num': [uv, pv_fav_num, pv_fav_cart_num, pv_fav_cart_pay_num]})\n",
    "pv_fav_cart_pay_data['conversion_rate'] = round(pv_fav_cart_pay_data['num'] / pv_fav_cart_pay_data['num'][0], 4) * 100"
   ]
  },
  {
   "cell_type": "code",
   "execution_count": 115,
   "id": "5254561b",
   "metadata": {},
   "outputs": [
    {
     "data": {
      "text/html": [
       "<div>\n",
       "<style scoped>\n",
       "    .dataframe tbody tr th:only-of-type {\n",
       "        vertical-align: middle;\n",
       "    }\n",
       "\n",
       "    .dataframe tbody tr th {\n",
       "        vertical-align: top;\n",
       "    }\n",
       "\n",
       "    .dataframe thead th {\n",
       "        text-align: right;\n",
       "    }\n",
       "</style>\n",
       "<table border=\"1\" class=\"dataframe\">\n",
       "  <thead>\n",
       "    <tr style=\"text-align: right;\">\n",
       "      <th></th>\n",
       "      <th>type</th>\n",
       "      <th>num</th>\n",
       "      <th>conversion_rate</th>\n",
       "    </tr>\n",
       "  </thead>\n",
       "  <tbody>\n",
       "    <tr>\n",
       "      <th>0</th>\n",
       "      <td>浏览</td>\n",
       "      <td>728959</td>\n",
       "      <td>100.00</td>\n",
       "    </tr>\n",
       "    <tr>\n",
       "      <th>1</th>\n",
       "      <td>收藏</td>\n",
       "      <td>45873</td>\n",
       "      <td>6.29</td>\n",
       "    </tr>\n",
       "    <tr>\n",
       "      <th>2</th>\n",
       "      <td>加购</td>\n",
       "      <td>14954</td>\n",
       "      <td>2.05</td>\n",
       "    </tr>\n",
       "    <tr>\n",
       "      <th>3</th>\n",
       "      <td>付款</td>\n",
       "      <td>10803</td>\n",
       "      <td>1.48</td>\n",
       "    </tr>\n",
       "  </tbody>\n",
       "</table>\n",
       "</div>"
      ],
      "text/plain": [
       "  type     num  conversion_rate\n",
       "0   浏览  728959           100.00\n",
       "1   收藏   45873             6.29\n",
       "2   加购   14954             2.05\n",
       "3   付款   10803             1.48"
      ]
     },
     "execution_count": 115,
     "metadata": {},
     "output_type": "execute_result"
    }
   ],
   "source": [
    "pv_fav_cart_pay_data"
   ]
  },
  {
   "cell_type": "code",
   "execution_count": 116,
   "id": "d3593858",
   "metadata": {},
   "outputs": [],
   "source": [
    "data4 = [[pv_fav_cart_pay_data['type'][i], pv_fav_cart_pay_data['conversion_rate'][i]] for i in range(len(pv_fav_cart_pay_data['type']))]"
   ]
  },
  {
   "cell_type": "code",
   "execution_count": 117,
   "id": "81ec0a28",
   "metadata": {},
   "outputs": [
    {
     "data": {
      "text/plain": [
       "[['浏览', 100.0], ['收藏', 6.29], ['加购', 2.0500000000000003], ['付款', 1.48]]"
      ]
     },
     "execution_count": 117,
     "metadata": {},
     "output_type": "execute_result"
    }
   ],
   "source": [
    "data4"
   ]
  },
  {
   "cell_type": "code",
   "execution_count": 118,
   "id": "514ff3f0",
   "metadata": {},
   "outputs": [
    {
     "data": {
      "text/html": [
       "\n",
       "<script>\n",
       "    require.config({\n",
       "        paths: {\n",
       "            'echarts':'https://assets.pyecharts.org/assets/echarts.min'\n",
       "        }\n",
       "    });\n",
       "</script>\n",
       "\n",
       "        <div id=\"35354558ea0a4f45afc9c0d3bdcd199e\" style=\"width:600px; height:300px;\"></div>\n",
       "\n",
       "<script>\n",
       "        require(['echarts'], function(echarts) {\n",
       "                var chart_35354558ea0a4f45afc9c0d3bdcd199e = echarts.init(\n",
       "                    document.getElementById('35354558ea0a4f45afc9c0d3bdcd199e'), 'white', {renderer: 'canvas'});\n",
       "                var option_35354558ea0a4f45afc9c0d3bdcd199e = {\n",
       "    \"animation\": true,\n",
       "    \"animationThreshold\": 2000,\n",
       "    \"animationDuration\": 1000,\n",
       "    \"animationEasing\": \"cubicOut\",\n",
       "    \"animationDelay\": 0,\n",
       "    \"animationDurationUpdate\": 300,\n",
       "    \"animationEasingUpdate\": \"cubicOut\",\n",
       "    \"animationDelayUpdate\": 0,\n",
       "    \"color\": [\n",
       "        \"#c23531\",\n",
       "        \"#2f4554\",\n",
       "        \"#61a0a8\",\n",
       "        \"#d48265\",\n",
       "        \"#749f83\",\n",
       "        \"#ca8622\",\n",
       "        \"#bda29a\",\n",
       "        \"#6e7074\",\n",
       "        \"#546570\",\n",
       "        \"#c4ccd3\",\n",
       "        \"#f05b72\",\n",
       "        \"#ef5b9c\",\n",
       "        \"#f47920\",\n",
       "        \"#905a3d\",\n",
       "        \"#fab27b\",\n",
       "        \"#2a5caa\",\n",
       "        \"#444693\",\n",
       "        \"#726930\",\n",
       "        \"#b2d235\",\n",
       "        \"#6d8346\",\n",
       "        \"#ac6767\",\n",
       "        \"#1d953f\",\n",
       "        \"#6950a1\",\n",
       "        \"#918597\"\n",
       "    ],\n",
       "    \"series\": [\n",
       "        {\n",
       "            \"type\": \"funnel\",\n",
       "            \"data\": [\n",
       "                {\n",
       "                    \"name\": \"\\u6d4f\\u89c8\",\n",
       "                    \"value\": 100.0\n",
       "                },\n",
       "                {\n",
       "                    \"name\": \"\\u6536\\u85cf\",\n",
       "                    \"value\": 6.29\n",
       "                },\n",
       "                {\n",
       "                    \"name\": \"\\u52a0\\u8d2d\",\n",
       "                    \"value\": 2.0500000000000003\n",
       "                },\n",
       "                {\n",
       "                    \"name\": \"\\u4ed8\\u6b3e\",\n",
       "                    \"value\": 1.48\n",
       "                }\n",
       "            ],\n",
       "            \"sort\": \"descending\",\n",
       "            \"gap\": 2,\n",
       "            \"label\": {\n",
       "                \"show\": true,\n",
       "                \"position\": \"top\",\n",
       "                \"margin\": 8\n",
       "            }\n",
       "        }\n",
       "    ],\n",
       "    \"legend\": [\n",
       "        {\n",
       "            \"data\": [\n",
       "                \"\\u4ed8\\u6b3e\",\n",
       "                \"\\u6536\\u85cf\",\n",
       "                \"\\u6d4f\\u89c8\",\n",
       "                \"\\u52a0\\u8d2d\"\n",
       "            ],\n",
       "            \"selected\": {\n",
       "                \"\\u6d4f\\u89c8\": true,\n",
       "                \"\\u6536\\u85cf\": true,\n",
       "                \"\\u52a0\\u8d2d\": true,\n",
       "                \"\\u4ed8\\u6b3e\": true\n",
       "            },\n",
       "            \"show\": true,\n",
       "            \"padding\": 5,\n",
       "            \"itemGap\": 10,\n",
       "            \"itemWidth\": 25,\n",
       "            \"itemHeight\": 14\n",
       "        }\n",
       "    ],\n",
       "    \"tooltip\": {\n",
       "        \"show\": true,\n",
       "        \"trigger\": \"item\",\n",
       "        \"triggerOn\": \"mousemove|click\",\n",
       "        \"axisPointer\": {\n",
       "            \"type\": \"line\"\n",
       "        },\n",
       "        \"textStyle\": {\n",
       "            \"fontSize\": 14\n",
       "        },\n",
       "        \"borderWidth\": 0\n",
       "    },\n",
       "    \"title\": [\n",
       "        {\n",
       "            \"text\": \"\\u6807\\u9898\",\n",
       "            \"padding\": 5,\n",
       "            \"itemGap\": 10\n",
       "        }\n",
       "    ]\n",
       "};\n",
       "                chart_35354558ea0a4f45afc9c0d3bdcd199e.setOption(option_35354558ea0a4f45afc9c0d3bdcd199e);\n",
       "        });\n",
       "    </script>\n"
      ],
      "text/plain": [
       "<pyecharts.render.display.HTML at 0x236c2239f08>"
      ]
     },
     "execution_count": 118,
     "metadata": {},
     "output_type": "execute_result"
    }
   ],
   "source": [
    "pv_fav_cart_pay = (\n",
    "    Funnel(init_opts=opts.InitOpts(width='600px', height='300px'))\n",
    "    .add(\n",
    "        series_name='',\n",
    "        data_pair=data4,\n",
    "        gap=2\n",
    "    )\n",
    "    .set_global_opts(title_opts=opts.TitleOpts(title='标题'))\n",
    ")\n",
    "\n",
    "pv_fav_cart_pay.render_notebook()"
   ]
  },
  {
   "cell_type": "markdown",
   "id": "b26a1bf2",
   "metadata": {},
   "source": [
    "- 比较四种不同的转化方式，最有效的转化路径为浏览直接付款转化率为21.46%，其次为浏览加购付款，转化率为12.47%，可以发现随着结算方式越来越复杂转化率越来越低。\n",
    "- 加购的方式比收藏购买的方式转化率要高，推其原因为购物车接口进入方便且可以做不同商家比价用，而收藏则需要更繁琐的操作才可以查看到商品，因此转化率较低。\n",
    "- 可以优化商品搜索功能，提高商品搜索准确度、易用性，减少用户搜索时间。\n",
    "- 根据用户喜好在首页进行商品推荐，优化重排商品详情展示页，提高顾客下单欲望，提供一键购物等简化购物步骤的功能。\n",
    "- 客服也可以留意加购及关注用户，适时推出优惠福利及时解答用户问题，引导用户购买以进一步提高转化率。\n",
    "- 对于用户消费时间间隔，可以通过限时领券购买、限时特惠价格等进一步缩短用户付款时间，提高订单量。"
   ]
  },
  {
   "cell_type": "code",
   "execution_count": 119,
   "id": "2ecfe11c",
   "metadata": {},
   "outputs": [
    {
     "data": {
      "text/plain": [
       "Timestamp('2018-03-30 00:00:00')"
      ]
     },
     "execution_count": 119,
     "metadata": {},
     "output_type": "execute_result"
    }
   ],
   "source": [
    "behavior['action_time'].min()"
   ]
  },
  {
   "cell_type": "code",
   "execution_count": 120,
   "id": "ce4b380d",
   "metadata": {},
   "outputs": [
    {
     "data": {
      "text/plain": [
       "Timestamp('2018-04-14 23:59:59')"
      ]
     },
     "execution_count": 120,
     "metadata": {},
     "output_type": "execute_result"
    }
   ],
   "source": [
    "behavior['action_time'].max()"
   ]
  },
  {
   "cell_type": "markdown",
   "id": "cd3c6a3c",
   "metadata": {},
   "source": [
    "#### 用户留存率分析"
   ]
  },
  {
   "cell_type": "code",
   "execution_count": 121,
   "id": "72169f3b",
   "metadata": {},
   "outputs": [],
   "source": [
    "first_day = datetime.date(datetime.strptime('2018-03-30', '%Y-%m-%d'))\n",
    "fifth_day = datetime.date(datetime.strptime('2018-04-03', '%Y-%m-%d'))\n",
    "tenth_day = datetime.date(datetime.strptime('2018-04-08', '%Y-%m-%d'))\n",
    "fifteenth_day = datetime.date(datetime.strptime('2018-04-13', '%Y-%m-%d'))"
   ]
  },
  {
   "cell_type": "code",
   "execution_count": 122,
   "id": "0f9e59b4",
   "metadata": {},
   "outputs": [],
   "source": [
    "# 第一天新增用户数\n",
    "df_firstday_user = behavior[behavior['date'] == first_day]['user_id'].to_frame()\n",
    "\n",
    "# 第五天留存用户数\n",
    "df_fifthday_user = behavior[behavior['date'] == fifth_day]['user_id'].to_frame()\n",
    "\n",
    "# 第十天留存用户数\n",
    "df_tenthday_user = behavior[behavior['date'] == tenth_day]['user_id'].to_frame()\n",
    "\n",
    "# 第十五天留存用户数\n",
    "df_fifteenthday_user = behavior[behavior['date'] == fifteenth_day]['user_id'].to_frame()"
   ]
  },
  {
   "cell_type": "code",
   "execution_count": 123,
   "id": "04ebdbaf",
   "metadata": {},
   "outputs": [],
   "source": [
    "# 五天留存率\n",
    "fifth_day_retention_rate = round(pd.merge(left=df_firstday_user, right=df_fifthday_user, how='inner', on='user_id')['user_id'].nunique() / df_firstday_user['user_id'].nunique(), 4)"
   ]
  },
  {
   "cell_type": "code",
   "execution_count": 124,
   "id": "462c74e9",
   "metadata": {},
   "outputs": [],
   "source": [
    "# 十天留存率\n",
    "tenth_day_retention_rate = round(pd.merge(left=df_firstday_user, right=df_tenthday_user, how='inner', on='user_id')['user_id'].nunique() / df_firstday_user['user_id'].nunique(), 4)"
   ]
  },
  {
   "cell_type": "code",
   "execution_count": 125,
   "id": "2aaf125f",
   "metadata": {},
   "outputs": [],
   "source": [
    "# 十五天留存率\n",
    "fifteenth_day_retention_rate = round(pd.merge(left=df_firstday_user, right=df_fifteenthday_user, how='inner', on='user_id')['user_id'].nunique() / df_firstday_user['user_id'].nunique(), 4)"
   ]
  },
  {
   "cell_type": "code",
   "execution_count": 126,
   "id": "e6823344",
   "metadata": {},
   "outputs": [],
   "source": [
    "df_retention_rate = pd.DataFrame({'n日留存率': ['五日留存率', '十日留存率', '十五日留存率'], 'Rate': [fifth_day_retention_rate, tenth_day_retention_rate, fifteenth_day_retention_rate]})"
   ]
  },
  {
   "cell_type": "code",
   "execution_count": 127,
   "id": "bceed56d",
   "metadata": {},
   "outputs": [],
   "source": [
    "# 可视化"
   ]
  },
  {
   "cell_type": "code",
   "execution_count": 128,
   "id": "94d62a04",
   "metadata": {},
   "outputs": [
    {
     "data": {
      "text/plain": [
       "<AxesSubplot:xlabel='n日留存率', ylabel='Rate'>"
      ]
     },
     "execution_count": 128,
     "metadata": {},
     "output_type": "execute_result"
    },
    {
     "data": {
      "image/png": "[encoded data removed]",
      "text/plain": [
       "<Figure size 720x360 with 1 Axes>"
      ]
     },
     "metadata": {},
     "output_type": "display_data"
    }
   ],
   "source": [
    "# seaborn\n",
    "plt.figure(figsize=(10, 5))\n",
    "\n",
    "sns.barplot(\n",
    "    x = 'n日留存率',\n",
    "    y = 'Rate',\n",
    "    data=df_retention_rate\n",
    ")"
   ]
  },
  {
   "cell_type": "code",
   "execution_count": 129,
   "id": "785b97c7",
   "metadata": {},
   "outputs": [
    {
     "data": {
      "text/html": [
       "\n",
       "<script>\n",
       "    require.config({\n",
       "        paths: {\n",
       "            'echarts':'https://assets.pyecharts.org/assets/echarts.min'\n",
       "        }\n",
       "    });\n",
       "</script>\n",
       "\n",
       "        <div id=\"611913ca4cbd42a18a0f74f894f3f33f\" style=\"width:700px; height:450px;\"></div>\n",
       "\n",
       "<script>\n",
       "        require(['echarts'], function(echarts) {\n",
       "                var chart_611913ca4cbd42a18a0f74f894f3f33f = echarts.init(\n",
       "                    document.getElementById('611913ca4cbd42a18a0f74f894f3f33f'), 'white', {renderer: 'canvas'});\n",
       "                var option_611913ca4cbd42a18a0f74f894f3f33f = {\n",
       "    \"animation\": true,\n",
       "    \"animationThreshold\": 2000,\n",
       "    \"animationDuration\": 1000,\n",
       "    \"animationEasing\": \"cubicOut\",\n",
       "    \"animationDelay\": 0,\n",
       "    \"animationDurationUpdate\": 300,\n",
       "    \"animationEasingUpdate\": \"cubicOut\",\n",
       "    \"animationDelayUpdate\": 0,\n",
       "    \"color\": [\n",
       "        \"#c23531\",\n",
       "        \"#2f4554\",\n",
       "        \"#61a0a8\",\n",
       "        \"#d48265\",\n",
       "        \"#749f83\",\n",
       "        \"#ca8622\",\n",
       "        \"#bda29a\",\n",
       "        \"#6e7074\",\n",
       "        \"#546570\",\n",
       "        \"#c4ccd3\",\n",
       "        \"#f05b72\",\n",
       "        \"#ef5b9c\",\n",
       "        \"#f47920\",\n",
       "        \"#905a3d\",\n",
       "        \"#fab27b\",\n",
       "        \"#2a5caa\",\n",
       "        \"#444693\",\n",
       "        \"#726930\",\n",
       "        \"#b2d235\",\n",
       "        \"#6d8346\",\n",
       "        \"#ac6767\",\n",
       "        \"#1d953f\",\n",
       "        \"#6950a1\",\n",
       "        \"#918597\"\n",
       "    ],\n",
       "    \"series\": [\n",
       "        {\n",
       "            \"type\": \"bar\",\n",
       "            \"data\": [\n",
       "                0.2281,\n",
       "                0.1829,\n",
       "                0.1744\n",
       "            ],\n",
       "            \"barCategoryGap\": \"20%\",\n",
       "            \"label\": {\n",
       "                \"show\": true,\n",
       "                \"position\": \"top\",\n",
       "                \"margin\": 8\n",
       "            }\n",
       "        }\n",
       "    ],\n",
       "    \"legend\": [\n",
       "        {\n",
       "            \"data\": [\n",
       "                \"\"\n",
       "            ],\n",
       "            \"selected\": {\n",
       "                \"\": true\n",
       "            },\n",
       "            \"show\": true,\n",
       "            \"padding\": 5,\n",
       "            \"itemGap\": 10,\n",
       "            \"itemWidth\": 25,\n",
       "            \"itemHeight\": 14\n",
       "        }\n",
       "    ],\n",
       "    \"tooltip\": {\n",
       "        \"show\": true,\n",
       "        \"trigger\": \"item\",\n",
       "        \"triggerOn\": \"mousemove|click\",\n",
       "        \"axisPointer\": {\n",
       "            \"type\": \"line\"\n",
       "        },\n",
       "        \"textStyle\": {\n",
       "            \"fontSize\": 14\n",
       "        },\n",
       "        \"borderWidth\": 0\n",
       "    },\n",
       "    \"xAxis\": [\n",
       "        {\n",
       "            \"show\": true,\n",
       "            \"scale\": false,\n",
       "            \"nameLocation\": \"end\",\n",
       "            \"nameGap\": 15,\n",
       "            \"gridIndex\": 0,\n",
       "            \"inverse\": false,\n",
       "            \"offset\": 0,\n",
       "            \"splitNumber\": 5,\n",
       "            \"minInterval\": 0,\n",
       "            \"splitLine\": {\n",
       "                \"show\": false,\n",
       "                \"lineStyle\": {\n",
       "                    \"show\": true,\n",
       "                    \"width\": 1,\n",
       "                    \"opacity\": 1,\n",
       "                    \"curveness\": 0,\n",
       "                    \"type\": \"solid\"\n",
       "                }\n",
       "            },\n",
       "            \"data\": [\n",
       "                \"\\u4e94\\u65e5\\u7559\\u5b58\\u7387\",\n",
       "                \"\\u5341\\u65e5\\u7559\\u5b58\\u7387\",\n",
       "                \"\\u5341\\u4e94\\u65e5\\u7559\\u5b58\\u7387\"\n",
       "            ]\n",
       "        }\n",
       "    ],\n",
       "    \"yAxis\": [\n",
       "        {\n",
       "            \"show\": true,\n",
       "            \"scale\": false,\n",
       "            \"nameLocation\": \"end\",\n",
       "            \"nameGap\": 15,\n",
       "            \"gridIndex\": 0,\n",
       "            \"inverse\": false,\n",
       "            \"offset\": 0,\n",
       "            \"splitNumber\": 5,\n",
       "            \"minInterval\": 0,\n",
       "            \"splitLine\": {\n",
       "                \"show\": false,\n",
       "                \"lineStyle\": {\n",
       "                    \"show\": true,\n",
       "                    \"width\": 1,\n",
       "                    \"opacity\": 1,\n",
       "                    \"curveness\": 0,\n",
       "                    \"type\": \"solid\"\n",
       "                }\n",
       "            }\n",
       "        }\n",
       "    ],\n",
       "    \"title\": [\n",
       "        {\n",
       "            \"text\": \"\\u7559\\u5b58\\u7387\",\n",
       "            \"subtext\": \"\\u6211\\u662f\\u526f\\u6807\\u9898\",\n",
       "            \"padding\": 5,\n",
       "            \"itemGap\": 10\n",
       "        }\n",
       "    ]\n",
       "};\n",
       "                chart_611913ca4cbd42a18a0f74f894f3f33f.setOption(option_611913ca4cbd42a18a0f74f894f3f33f);\n",
       "        });\n",
       "    </script>\n"
      ],
      "text/plain": [
       "<pyecharts.render.display.HTML at 0x236c22b5408>"
      ]
     },
     "execution_count": 129,
     "metadata": {},
     "output_type": "execute_result"
    }
   ],
   "source": [
    "# pyecharts\n",
    "from pyecharts.charts import Bar\n",
    "\n",
    "a = (\n",
    "    Bar(init_opts=opts.InitOpts(width='700px', height='450px'))\n",
    "    .add_xaxis(list(df_retention_rate['n日留存率']))\n",
    "    .add_yaxis('', list(df_retention_rate['Rate']))\n",
    "    .set_global_opts(title_opts=opts.TitleOpts(title='留存率', subtitle='我是副标题'))\n",
    ")\n",
    "a.render_notebook()"
   ]
  },
  {
   "cell_type": "markdown",
   "id": "5dbb2488",
   "metadata": {},
   "source": [
    "- 留存率反应了产品质量和保留用户的能力，按照Facebook平台流传出留存率“40–20–10”规则（规则中的数字表示的是次日留存率、第7日留存率和第30日留存率），统计周期内第五日留存率为22.81%，第15日留存率为17.44%。\n",
    "- 反映出平台的用户依赖性较高，也因平台发展已经到达稳定阶段，用户保留率不会发生较大波动，数据量足够的情况下可以以年为单位，计算按月的留存率。要合理安排消息推送，推出签到有奖等机制提高用户粘性，进一步提高留存率。"
   ]
  },
  {
   "cell_type": "markdown",
   "id": "dbc657ac",
   "metadata": {},
   "source": [
    "#### 商品销量分析"
   ]
  },
  {
   "cell_type": "code",
   "execution_count": 130,
   "id": "8b9f72f5",
   "metadata": {},
   "outputs": [
    {
     "data": {
      "text/plain": [
       "239007"
      ]
     },
     "execution_count": 130,
     "metadata": {},
     "output_type": "execute_result"
    }
   ],
   "source": [
    "# 商品总数\n",
    "behavior['sku_id'].nunique()"
   ]
  },
  {
   "cell_type": "code",
   "execution_count": 131,
   "id": "d9c41258",
   "metadata": {},
   "outputs": [],
   "source": [
    "# 商品被购买前产生平均操作次数\n",
    "\n",
    "df_sku = behavior[behavior['sku_id'].isin(behavior[behavior['type'] == 'pay']['sku_id'].unique())].groupby('sku_id')['type'].value_counts().unstack(fill_value=0)"
   ]
  },
  {
   "cell_type": "code",
   "execution_count": 132,
   "id": "e32a490c",
   "metadata": {},
   "outputs": [],
   "source": [
    "df_sku['total'] = df_sku.sum(axis=1)"
   ]
  },
  {
   "cell_type": "code",
   "execution_count": 133,
   "id": "691a12cf",
   "metadata": {},
   "outputs": [
    {
     "data": {
      "text/html": [
       "<div>\n",
       "<style scoped>\n",
       "    .dataframe tbody tr th:only-of-type {\n",
       "        vertical-align: middle;\n",
       "    }\n",
       "\n",
       "    .dataframe tbody tr th {\n",
       "        vertical-align: top;\n",
       "    }\n",
       "\n",
       "    .dataframe thead th {\n",
       "        text-align: right;\n",
       "    }\n",
       "</style>\n",
       "<table border=\"1\" class=\"dataframe\">\n",
       "  <thead>\n",
       "    <tr style=\"text-align: right;\">\n",
       "      <th>type</th>\n",
       "      <th>cart</th>\n",
       "      <th>comm</th>\n",
       "      <th>fav</th>\n",
       "      <th>pay</th>\n",
       "      <th>pv</th>\n",
       "      <th>total</th>\n",
       "    </tr>\n",
       "    <tr>\n",
       "      <th>sku_id</th>\n",
       "      <th></th>\n",
       "      <th></th>\n",
       "      <th></th>\n",
       "      <th></th>\n",
       "      <th></th>\n",
       "      <th></th>\n",
       "    </tr>\n",
       "  </thead>\n",
       "  <tbody>\n",
       "    <tr>\n",
       "      <th>13</th>\n",
       "      <td>0</td>\n",
       "      <td>0</td>\n",
       "      <td>0</td>\n",
       "      <td>1</td>\n",
       "      <td>8</td>\n",
       "      <td>9</td>\n",
       "    </tr>\n",
       "    <tr>\n",
       "      <th>17</th>\n",
       "      <td>1</td>\n",
       "      <td>1</td>\n",
       "      <td>0</td>\n",
       "      <td>1</td>\n",
       "      <td>12</td>\n",
       "      <td>15</td>\n",
       "    </tr>\n",
       "    <tr>\n",
       "      <th>22</th>\n",
       "      <td>0</td>\n",
       "      <td>0</td>\n",
       "      <td>0</td>\n",
       "      <td>1</td>\n",
       "      <td>3</td>\n",
       "      <td>4</td>\n",
       "    </tr>\n",
       "    <tr>\n",
       "      <th>24</th>\n",
       "      <td>5</td>\n",
       "      <td>0</td>\n",
       "      <td>1</td>\n",
       "      <td>5</td>\n",
       "      <td>50</td>\n",
       "      <td>61</td>\n",
       "    </tr>\n",
       "    <tr>\n",
       "      <th>26</th>\n",
       "      <td>0</td>\n",
       "      <td>1</td>\n",
       "      <td>0</td>\n",
       "      <td>1</td>\n",
       "      <td>28</td>\n",
       "      <td>30</td>\n",
       "    </tr>\n",
       "  </tbody>\n",
       "</table>\n",
       "</div>"
      ],
      "text/plain": [
       "type    cart  comm  fav  pay  pv  total\n",
       "sku_id                                 \n",
       "13         0     0    0    1   8      9\n",
       "17         1     1    0    1  12     15\n",
       "22         0     0    0    1   3      4\n",
       "24         5     0    1    5  50     61\n",
       "26         0     1    0    1  28     30"
      ]
     },
     "execution_count": 133,
     "metadata": {},
     "output_type": "execute_result"
    }
   ],
   "source": [
    "df_sku.head()"
   ]
  },
  {
   "cell_type": "code",
   "execution_count": 134,
   "id": "09641cd5",
   "metadata": {},
   "outputs": [],
   "source": [
    "df_sku['avg_beha'] = round(df_sku['total'] / df_sku['pay'], 2)"
   ]
  },
  {
   "cell_type": "code",
   "execution_count": 135,
   "id": "de8ff458",
   "metadata": {},
   "outputs": [
    {
     "data": {
      "image/png": "[encoded data removed]",
      "text/plain": [
       "<Figure size 720x432 with 1 Axes>"
      ]
     },
     "metadata": {},
     "output_type": "display_data"
    }
   ],
   "source": [
    "# seaborn\n",
    "\n",
    "fig= plt.figure(figsize=(10, 6))\n",
    "ax = plt.subplot()\n",
    "\n",
    "sns.scatterplot(\n",
    "    x = 'avg_beha',\n",
    "    y = 'pay',\n",
    "    data=df_sku\n",
    ")\n",
    "ax.set_xscale('log')\n",
    "ax.set_yscale('log')"
   ]
  },
  {
   "cell_type": "markdown",
   "id": "7c77cb50",
   "metadata": {},
   "source": [
    "- 左下角操作少购买少，属于冷门购买频率较低的产品。\n",
    "- 左上角操作少购买多，属于快消类产品，可选择品牌少，少数品牌垄断的行业。\n",
    "- 右下角操作多购买少，品牌多，但是购买频率低，应为贵重物品类。\n",
    "- 右上角操作多购买多，大众品牌，可选多，被购买频次高。"
   ]
  },
  {
   "cell_type": "code",
   "execution_count": 136,
   "id": "cbdbf29e",
   "metadata": {},
   "outputs": [],
   "source": [
    "# 商品销量排行\n",
    "df_pay_sku = behavior[behavior['type'] == 'pay'].groupby('sku_id')['type'].count().to_frame().rename(columns={'type': 'total'}).reset_index()"
   ]
  },
  {
   "cell_type": "code",
   "execution_count": 137,
   "id": "addb2642",
   "metadata": {},
   "outputs": [],
   "source": [
    "# 销量大于1000的商品\n",
    "top_pay_sku = df_pay_sku[df_pay_sku['total'] > 1000].sort_values('total', ascending=False)"
   ]
  },
  {
   "cell_type": "code",
   "execution_count": 138,
   "id": "d277d842",
   "metadata": {},
   "outputs": [],
   "source": [
    "# 单个用户共购买商品总数\n",
    "sku_num_per_user = behavior[behavior['type'] == 'pay'].groupby('user_id')['sku_id'].nunique()"
   ]
  },
  {
   "cell_type": "code",
   "execution_count": 139,
   "id": "9e2cb048",
   "metadata": {},
   "outputs": [
    {
     "data": {
      "text/html": [
       "<style type=\"text/css\">\n",
       "#T_1fd53_row0_col0 {\n",
       "  width: 10em;\n",
       "  height: 80%;\n",
       "  background: linear-gradient(90deg,skyblue 100.0%, transparent 100.0%);\n",
       "}\n",
       "#T_1fd53_row1_col0 {\n",
       "  width: 10em;\n",
       "  height: 80%;\n",
       "  background: linear-gradient(90deg,skyblue 69.9%, transparent 69.9%);\n",
       "}\n",
       "#T_1fd53_row2_col0 {\n",
       "  width: 10em;\n",
       "  height: 80%;\n",
       "  background: linear-gradient(90deg,skyblue 68.0%, transparent 68.0%);\n",
       "}\n",
       "#T_1fd53_row3_col0 {\n",
       "  width: 10em;\n",
       "  height: 80%;\n",
       "  background: linear-gradient(90deg,skyblue 60.4%, transparent 60.4%);\n",
       "}\n",
       "#T_1fd53_row4_col0 {\n",
       "  width: 10em;\n",
       "  height: 80%;\n",
       "  background: linear-gradient(90deg,skyblue 47.0%, transparent 47.0%);\n",
       "}\n",
       "#T_1fd53_row5_col0 {\n",
       "  width: 10em;\n",
       "  height: 80%;\n",
       "  background: linear-gradient(90deg,skyblue 46.0%, transparent 46.0%);\n",
       "}\n",
       "#T_1fd53_row6_col0 {\n",
       "  width: 10em;\n",
       "  height: 80%;\n",
       "  background: linear-gradient(90deg,skyblue 35.9%, transparent 35.9%);\n",
       "}\n",
       "#T_1fd53_row7_col0 {\n",
       "  width: 10em;\n",
       "  height: 80%;\n",
       "  background: linear-gradient(90deg,skyblue 12.6%, transparent 12.6%);\n",
       "}\n",
       "#T_1fd53_row8_col0 {\n",
       "  width: 10em;\n",
       "  height: 80%;\n",
       "  background: linear-gradient(90deg,skyblue 6.9%, transparent 6.9%);\n",
       "}\n",
       "#T_1fd53_row9_col0 {\n",
       "  width: 10em;\n",
       "  height: 80%;\n",
       "  background: linear-gradient(90deg,skyblue 4.3%, transparent 4.3%);\n",
       "}\n",
       "#T_1fd53_row10_col0 {\n",
       "  width: 10em;\n",
       "  height: 80%;\n",
       "  background: linear-gradient(90deg,skyblue 3.3%, transparent 3.3%);\n",
       "}\n",
       "#T_1fd53_row11_col0 {\n",
       "  width: 10em;\n",
       "  height: 80%;\n",
       "  background: linear-gradient(90deg,skyblue 1.4%, transparent 1.4%);\n",
       "}\n",
       "#T_1fd53_row12_col0 {\n",
       "  width: 10em;\n",
       "  height: 80%;\n",
       "}\n",
       "</style>\n",
       "<table id=\"T_1fd53_\">\n",
       "  <thead>\n",
       "    <tr>\n",
       "      <th class=\"blank level0\" >&nbsp;</th>\n",
       "      <th class=\"col_heading level0 col0\" >total</th>\n",
       "    </tr>\n",
       "    <tr>\n",
       "      <th class=\"index_name level0\" >sku_id</th>\n",
       "      <th class=\"blank col0\" >&nbsp;</th>\n",
       "    </tr>\n",
       "  </thead>\n",
       "  <tbody>\n",
       "    <tr>\n",
       "      <th id=\"T_1fd53_level0_row0\" class=\"row_heading level0 row0\" >152092</th>\n",
       "      <td id=\"T_1fd53_row0_col0\" class=\"data row0 col0\" >1736</td>\n",
       "    </tr>\n",
       "    <tr>\n",
       "      <th id=\"T_1fd53_level0_row1\" class=\"row_heading level0 row1\" >37284</th>\n",
       "      <td id=\"T_1fd53_row1_col0\" class=\"data row1 col0\" >1517</td>\n",
       "    </tr>\n",
       "    <tr>\n",
       "      <th id=\"T_1fd53_level0_row2\" class=\"row_heading level0 row2\" >232801</th>\n",
       "      <td id=\"T_1fd53_row2_col0\" class=\"data row2 col0\" >1503</td>\n",
       "    </tr>\n",
       "    <tr>\n",
       "      <th id=\"T_1fd53_level0_row3\" class=\"row_heading level0 row3\" >224207</th>\n",
       "      <td id=\"T_1fd53_row3_col0\" class=\"data row3 col0\" >1448</td>\n",
       "    </tr>\n",
       "    <tr>\n",
       "      <th id=\"T_1fd53_level0_row4\" class=\"row_heading level0 row4\" >44024</th>\n",
       "      <td id=\"T_1fd53_row4_col0\" class=\"data row4 col0\" >1350</td>\n",
       "    </tr>\n",
       "    <tr>\n",
       "      <th id=\"T_1fd53_level0_row5\" class=\"row_heading level0 row5\" >327151</th>\n",
       "      <td id=\"T_1fd53_row5_col0\" class=\"data row5 col0\" >1343</td>\n",
       "    </tr>\n",
       "    <tr>\n",
       "      <th id=\"T_1fd53_level0_row6\" class=\"row_heading level0 row6\" >125519</th>\n",
       "      <td id=\"T_1fd53_row6_col0\" class=\"data row6 col0\" >1269</td>\n",
       "    </tr>\n",
       "    <tr>\n",
       "      <th id=\"T_1fd53_level0_row7\" class=\"row_heading level0 row7\" >83032</th>\n",
       "      <td id=\"T_1fd53_row7_col0\" class=\"data row7 col0\" >1100</td>\n",
       "    </tr>\n",
       "    <tr>\n",
       "      <th id=\"T_1fd53_level0_row8\" class=\"row_heading level0 row8\" >261934</th>\n",
       "      <td id=\"T_1fd53_row8_col0\" class=\"data row8 col0\" >1058</td>\n",
       "    </tr>\n",
       "    <tr>\n",
       "      <th id=\"T_1fd53_level0_row9\" class=\"row_heading level0 row9\" >141479</th>\n",
       "      <td id=\"T_1fd53_row9_col0\" class=\"data row9 col0\" >1039</td>\n",
       "    </tr>\n",
       "    <tr>\n",
       "      <th id=\"T_1fd53_level0_row10\" class=\"row_heading level0 row10\" >199489</th>\n",
       "      <td id=\"T_1fd53_row10_col0\" class=\"data row10 col0\" >1032</td>\n",
       "    </tr>\n",
       "    <tr>\n",
       "      <th id=\"T_1fd53_level0_row11\" class=\"row_heading level0 row11\" >19643</th>\n",
       "      <td id=\"T_1fd53_row11_col0\" class=\"data row11 col0\" >1018</td>\n",
       "    </tr>\n",
       "    <tr>\n",
       "      <th id=\"T_1fd53_level0_row12\" class=\"row_heading level0 row12\" >10006</th>\n",
       "      <td id=\"T_1fd53_row12_col0\" class=\"data row12 col0\" >1008</td>\n",
       "    </tr>\n",
       "  </tbody>\n",
       "</table>\n"
      ],
      "text/plain": [
       "<pandas.io.formats.style.Styler at 0x236c5d19208>"
      ]
     },
     "execution_count": 139,
     "metadata": {},
     "output_type": "execute_result"
    }
   ],
   "source": [
    "top_pay_sku.set_index('sku_id').style.bar(color='skyblue', subset='total')"
   ]
  },
  {
   "cell_type": "code",
   "execution_count": null,
   "id": "5a579e04",
   "metadata": {},
   "outputs": [],
   "source": []
  },
  {
   "cell_type": "code",
   "execution_count": null,
   "id": "eecb0747",
   "metadata": {},
   "outputs": [],
   "source": []
  },
  {
   "cell_type": "markdown",
   "id": "5d67e3bb",
   "metadata": {},
   "source": [
    "#### RFM用户分层\n",
    "- R Recency 最近一次消费时间 （消费时间越近的客户价值越大）\n",
    "- F Frequency 消费频率 （用户在统计周期内购买商品的次数）\n",
    "- M Monetary 消费金额 （指用户在统计周期内消费的总金额）"
   ]
  },
  {
   "cell_type": "code",
   "execution_count": null,
   "id": "5a6e926c",
   "metadata": {},
   "outputs": [],
   "source": [
    "# 此数据集缺少金额（M）"
   ]
  },
  {
   "cell_type": "code",
   "execution_count": 150,
   "id": "abf80626",
   "metadata": {},
   "outputs": [],
   "source": [
    "pay_group = behavior[behavior['type'] == 'pay'].groupby('user_id')['date']"
   ]
  },
  {
   "cell_type": "code",
   "execution_count": 157,
   "id": "0da80cdf",
   "metadata": {},
   "outputs": [],
   "source": [
    "# 将 behavior['date'].max() 作为“今天”\n",
    "final_day = behavior['date'].max()"
   ]
  },
  {
   "cell_type": "code",
   "execution_count": 171,
   "id": "f0911c47",
   "metadata": {},
   "outputs": [],
   "source": [
    "recent_pay_time = pay_group.apply(lambda x: final_day - x.max()).to_frame()"
   ]
  },
  {
   "cell_type": "code",
   "execution_count": 172,
   "id": "256b08d2",
   "metadata": {},
   "outputs": [],
   "source": [
    "# 也可以这么写\n",
    "# recent_pay_time = pd.DataFrame(final_day - pay_group.max())"
   ]
  },
  {
   "cell_type": "code",
   "execution_count": 180,
   "id": "da1828a1",
   "metadata": {},
   "outputs": [],
   "source": [
    "recent_pay_time = recent_pay_time.reset_index().rename(columns={'date': 'recent'})"
   ]
  },
  {
   "cell_type": "code",
   "execution_count": 196,
   "id": "a73c9074",
   "metadata": {},
   "outputs": [],
   "source": [
    "buy_freq = pay_group.count().reset_index().rename(columns={'date': 'freq'})"
   ]
  },
  {
   "cell_type": "code",
   "execution_count": 197,
   "id": "3e0d4cc7",
   "metadata": {},
   "outputs": [],
   "source": [
    "RFM = pd.merge(left=recent_pay_time, right=buy_freq, how='inner', on='user_id')"
   ]
  },
  {
   "cell_type": "code",
   "execution_count": 203,
   "id": "57157434",
   "metadata": {},
   "outputs": [],
   "source": [
    "# 天数小标签为1天数大标签为0\n",
    "RFM['R'] = pd.qcut(RFM.recent, 2, labels=['1', '0'])"
   ]
  },
  {
   "cell_type": "code",
   "execution_count": 207,
   "id": "53fce12e",
   "metadata": {},
   "outputs": [],
   "source": [
    "# 频率大标签为1频率小标签为0\n",
    "RFM['F'] = pd.qcut(RFM.freq.rank(method='first'), 2, labels=['0', '1'])"
   ]
  },
  {
   "cell_type": "code",
   "execution_count": 216,
   "id": "fd92f9c5",
   "metadata": {},
   "outputs": [],
   "source": [
    "RFM['RFM'] = RFM['R'].astype(int).map(str) + RFM['F'].astype(int).map(str)"
   ]
  },
  {
   "cell_type": "code",
   "execution_count": 218,
   "id": "b85f0b41",
   "metadata": {},
   "outputs": [],
   "source": [
    "dict_n={'01':'重要保持客户',\n",
    "        '11':'重要价值客户',\n",
    "        '10':'重要挽留客户',\n",
    "        '00':'一般发展客户'}"
   ]
  },
  {
   "cell_type": "code",
   "execution_count": 220,
   "id": "daff1aca",
   "metadata": {},
   "outputs": [],
   "source": [
    "RFM['用户等级'] = RFM['RFM'].map(dict_n)"
   ]
  },
  {
   "cell_type": "code",
   "execution_count": 224,
   "id": "8f3655b7",
   "metadata": {},
   "outputs": [],
   "source": [
    "RFM_pie = RFM['用户等级'].value_counts().reset_index()"
   ]
  },
  {
   "cell_type": "code",
   "execution_count": 229,
   "id": "3a55ebd0",
   "metadata": {},
   "outputs": [],
   "source": [
    "RFM_pie['Rate'] = RFM_pie['用户等级'] / RFM_pie['用户等级'].sum()"
   ]
  },
  {
   "cell_type": "code",
   "execution_count": 231,
   "id": "6789b77a",
   "metadata": {},
   "outputs": [
    {
     "data": {
      "text/html": [
       "<div>\n",
       "<style scoped>\n",
       "    .dataframe tbody tr th:only-of-type {\n",
       "        vertical-align: middle;\n",
       "    }\n",
       "\n",
       "    .dataframe tbody tr th {\n",
       "        vertical-align: top;\n",
       "    }\n",
       "\n",
       "    .dataframe thead th {\n",
       "        text-align: right;\n",
       "    }\n",
       "</style>\n",
       "<table border=\"1\" class=\"dataframe\">\n",
       "  <thead>\n",
       "    <tr style=\"text-align: right;\">\n",
       "      <th></th>\n",
       "      <th>index</th>\n",
       "      <th>用户等级</th>\n",
       "      <th>Rate</th>\n",
       "    </tr>\n",
       "  </thead>\n",
       "  <tbody>\n",
       "    <tr>\n",
       "      <th>0</th>\n",
       "      <td>重要价值客户</td>\n",
       "      <td>109290</td>\n",
       "      <td>0.276073</td>\n",
       "    </tr>\n",
       "    <tr>\n",
       "      <th>1</th>\n",
       "      <td>重要挽留客户</td>\n",
       "      <td>103691</td>\n",
       "      <td>0.261929</td>\n",
       "    </tr>\n",
       "    <tr>\n",
       "      <th>2</th>\n",
       "      <td>一般发展客户</td>\n",
       "      <td>94246</td>\n",
       "      <td>0.238071</td>\n",
       "    </tr>\n",
       "    <tr>\n",
       "      <th>3</th>\n",
       "      <td>重要保持客户</td>\n",
       "      <td>88647</td>\n",
       "      <td>0.223927</td>\n",
       "    </tr>\n",
       "  </tbody>\n",
       "</table>\n",
       "</div>"
      ],
      "text/plain": [
       "    index    用户等级      Rate\n",
       "0  重要价值客户  109290  0.276073\n",
       "1  重要挽留客户  103691  0.261929\n",
       "2  一般发展客户   94246  0.238071\n",
       "3  重要保持客户   88647  0.223927"
      ]
     },
     "execution_count": 231,
     "metadata": {},
     "output_type": "execute_result"
    }
   ],
   "source": [
    "RFM_pie"
   ]
  },
  {
   "cell_type": "code",
   "execution_count": 272,
   "id": "2f805f36",
   "metadata": {},
   "outputs": [
    {
     "data": {
      "text/html": [
       "\n",
       "<script>\n",
       "    require.config({\n",
       "        paths: {\n",
       "            'echarts':'https://assets.pyecharts.org/assets/echarts.min'\n",
       "        }\n",
       "    });\n",
       "</script>\n",
       "\n",
       "        <div id=\"18ab4c4ea7e848be8db627454abf4089\" style=\"width:700px; height:400px;\"></div>\n",
       "\n",
       "<script>\n",
       "        require(['echarts'], function(echarts) {\n",
       "                var chart_18ab4c4ea7e848be8db627454abf4089 = echarts.init(\n",
       "                    document.getElementById('18ab4c4ea7e848be8db627454abf4089'), 'white', {renderer: 'canvas'});\n",
       "                var option_18ab4c4ea7e848be8db627454abf4089 = {\n",
       "    \"animation\": true,\n",
       "    \"animationThreshold\": 2000,\n",
       "    \"animationDuration\": 1000,\n",
       "    \"animationEasing\": \"cubicOut\",\n",
       "    \"animationDelay\": 0,\n",
       "    \"animationDurationUpdate\": 300,\n",
       "    \"animationEasingUpdate\": \"cubicOut\",\n",
       "    \"animationDelayUpdate\": 0,\n",
       "    \"color\": [\n",
       "        \"#c23531\",\n",
       "        \"#2f4554\",\n",
       "        \"#61a0a8\",\n",
       "        \"#d48265\",\n",
       "        \"#749f83\",\n",
       "        \"#ca8622\",\n",
       "        \"#bda29a\",\n",
       "        \"#6e7074\",\n",
       "        \"#546570\",\n",
       "        \"#c4ccd3\",\n",
       "        \"#f05b72\",\n",
       "        \"#ef5b9c\",\n",
       "        \"#f47920\",\n",
       "        \"#905a3d\",\n",
       "        \"#fab27b\",\n",
       "        \"#2a5caa\",\n",
       "        \"#444693\",\n",
       "        \"#726930\",\n",
       "        \"#b2d235\",\n",
       "        \"#6d8346\",\n",
       "        \"#ac6767\",\n",
       "        \"#1d953f\",\n",
       "        \"#6950a1\",\n",
       "        \"#918597\"\n",
       "    ],\n",
       "    \"series\": [\n",
       "        {\n",
       "            \"type\": \"pie\",\n",
       "            \"clockwise\": true,\n",
       "            \"data\": [\n",
       "                {\n",
       "                    \"name\": \"\\u91cd\\u8981\\u4ef7\\u503c\\u5ba2\\u6237\",\n",
       "                    \"value\": 0.27607268979523786\n",
       "                },\n",
       "                {\n",
       "                    \"name\": \"\\u91cd\\u8981\\u633d\\u7559\\u5ba2\\u6237\",\n",
       "                    \"value\": 0.26192930073710324\n",
       "                },\n",
       "                {\n",
       "                    \"name\": \"\\u4e00\\u822c\\u53d1\\u5c55\\u5ba2\\u6237\",\n",
       "                    \"value\": 0.23807069926289678\n",
       "                },\n",
       "                {\n",
       "                    \"name\": \"\\u91cd\\u8981\\u4fdd\\u6301\\u5ba2\\u6237\",\n",
       "                    \"value\": 0.22392731020476211\n",
       "                }\n",
       "            ],\n",
       "            \"radius\": [\n",
       "                \"0%\",\n",
       "                \"75%\"\n",
       "            ],\n",
       "            \"center\": [\n",
       "                \"50%\",\n",
       "                \"50%\"\n",
       "            ],\n",
       "            \"label\": {\n",
       "                \"show\": true,\n",
       "                \"position\": \"top\",\n",
       "                \"margin\": 8,\n",
       "                \"formatter\": \"{b}: {c}\"\n",
       "            },\n",
       "            \"rippleEffect\": {\n",
       "                \"show\": true,\n",
       "                \"brushType\": \"stroke\",\n",
       "                \"scale\": 2.5,\n",
       "                \"period\": 4\n",
       "            }\n",
       "        }\n",
       "    ],\n",
       "    \"legend\": [\n",
       "        {\n",
       "            \"data\": [\n",
       "                \"\\u91cd\\u8981\\u4ef7\\u503c\\u5ba2\\u6237\",\n",
       "                \"\\u91cd\\u8981\\u633d\\u7559\\u5ba2\\u6237\",\n",
       "                \"\\u4e00\\u822c\\u53d1\\u5c55\\u5ba2\\u6237\",\n",
       "                \"\\u91cd\\u8981\\u4fdd\\u6301\\u5ba2\\u6237\"\n",
       "            ],\n",
       "            \"selected\": {},\n",
       "            \"show\": true,\n",
       "            \"padding\": 5,\n",
       "            \"itemGap\": 10,\n",
       "            \"itemWidth\": 25,\n",
       "            \"itemHeight\": 14\n",
       "        }\n",
       "    ],\n",
       "    \"tooltip\": {\n",
       "        \"show\": true,\n",
       "        \"trigger\": \"item\",\n",
       "        \"triggerOn\": \"mousemove|click\",\n",
       "        \"axisPointer\": {\n",
       "            \"type\": \"line\"\n",
       "        },\n",
       "        \"textStyle\": {\n",
       "            \"fontSize\": 14\n",
       "        },\n",
       "        \"borderWidth\": 0\n",
       "    },\n",
       "    \"title\": [\n",
       "        {\n",
       "            \"text\": \"RFM\\u53ef\\u89c6\\u5316\",\n",
       "            \"padding\": 5,\n",
       "            \"itemGap\": 10\n",
       "        }\n",
       "    ]\n",
       "};\n",
       "                chart_18ab4c4ea7e848be8db627454abf4089.setOption(option_18ab4c4ea7e848be8db627454abf4089);\n",
       "        });\n",
       "    </script>\n"
      ],
      "text/plain": [
       "<pyecharts.render.display.HTML at 0x236d7924588>"
      ]
     },
     "execution_count": 272,
     "metadata": {},
     "output_type": "execute_result"
    }
   ],
   "source": [
    "# 可视化\n",
    "\n",
    "from pyecharts.charts import Pie\n",
    "\n",
    "c = (\n",
    "    Pie(init_opts=opts.InitOpts(width='700px', height='400px'))\n",
    "    .add('', [list(z) for z in zip(RFM_pie['index'], RFM_pie['Rate'])])\n",
    "    .set_global_opts(title_opts=opts.TitleOpts(title='RFM可视化'))\n",
    "    .set_series_opts(label_opts=opts.LabelOpts(formatter='{b}: {c}'))\n",
    ")\n",
    "\n",
    "c.render_notebook()"
   ]
  },
  {
   "cell_type": "code",
   "execution_count": null,
   "id": "e2617440",
   "metadata": {},
   "outputs": [],
   "source": []
  }
 ],
 "metadata": {
  "kernelspec": {
   "display_name": "Python 3 (ipykernel)",
   "language": "python",
   "name": "python3"
  },
  "language_info": {
   "codemirror_mode": {
    "name": "ipython",
    "version": 3
   },
   "file_extension": ".py",
   "mimetype": "text/x-python",
   "name": "python",
   "nbconvert_exporter": "python",
   "pygments_lexer": "ipython3",
   "version": "3.7.10"
  },
  "toc": {
   "base_numbering": 1,
   "nav_menu": {},
   "number_sections": true,
   "sideBar": true,
   "skip_h1_title": false,
   "title_cell": "Table of Contents",
   "title_sidebar": "Contents",
   "toc_cell": false,
   "toc_position": {
    "height": "477px",
    "left": "56px",
    "top": "156.125px",
    "width": "273.188px"
   },
   "toc_section_display": true,
   "toc_window_display": true
  }
 },
 "nbformat": 4,
 "nbformat_minor": 5
}
